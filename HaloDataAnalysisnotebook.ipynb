{
 "cells": [
  {
   "cell_type": "code",
   "execution_count": 16,
   "metadata": {
    "collapsed": true
   },
   "outputs": [],
   "source": [
    "#TODO: a python script version of this code will be coming out when I finish fine-tuning its features\n",
    "\n",
    "#This program uses JGI IMG to create a list of gene product names associated with different pathways in a microbe sample.\n",
    "#The list of product names are then used to create a new excel spreadsheet with original data rearranged by pathways\n",
    "##########################################################################################################################\n",
    "#You have to make sure that you have the pandas, splinter and BeautifulSoup libraries in order to run the program\n",
    "from splinter import Browser\n",
    "from bs4 import BeautifulSoup\n",
    "import csv\n",
    "from collections import OrderedDict\n",
    "import pandas as pd\n",
    "from pandas import ExcelWriter\n",
    "from pandas import ExcelFile\n",
    "from openpyxl import load_workbook\n",
    "import numpy as np\n",
    "from collections import Counter"
   ]
  },
  {
   "cell_type": "code",
   "execution_count": 17,
   "metadata": {
    "collapsed": true
   },
   "outputs": [],
   "source": [
    "#Opens up a Chrome browser, the file name depends on where your chromedriver is located\n",
    "executable_path = {'executable_path':'C:\\Program Files\\chromedriver.exe'}\n",
    "browser = Browser('chrome', **executable_path)"
   ]
  },
  {
   "cell_type": "code",
   "execution_count": 21,
   "metadata": {
    "collapsed": true
   },
   "outputs": [],
   "source": [
    "#visits the JGI link with the list of pathways, update the url link depending on your project\n",
    "gene_url2 = \"https://img.jgi.doe.gov/cgi-bin/mer/main.cgi?section=TaxonDetail&page=kegg&cat=cat&taxon_oid=2622736421\"\n",
    "browser.visit(gene_url2)\n",
    "soup2 = BeautifulSoup(browser.html, \"html.parser\")"
   ]
  },
  {
   "cell_type": "code",
   "execution_count": 25,
   "metadata": {
    "collapsed": true
   },
   "outputs": [],
   "source": [
    "#find all the clickable links in the html file and add it the urlList\n",
    "urlList = []\n",
    "table = soup2.table\n",
    "counter = 0\n",
    "for a in table.find_all('a', href=True):\n",
    "    if counter % 2 == 0: #the %2 is there to account for the fact that each pathway/row has two links and I only want one\n",
    "        urlList.append(a['href'])\n",
    "    counter += 1;"
   ]
  },
  {
   "cell_type": "code",
   "execution_count": 34,
   "metadata": {},
   "outputs": [
    {
     "name": "stdout",
     "output_type": "stream",
     "text": [
      "['Longevity regulating pathway - mammal', 'catalase', 'catalase', 'catalase', 'catalase', 'superoxide dismutase, Fe-Mn family']\n"
     ]
    }
   ],
   "source": [
    "#build a list of pathways with each pathway containing a list of the gene product names\n",
    "def hasNumbers(inputString):\n",
    "    \"\"\"\n",
    "    Checks if the inputString has numbers in it\n",
    "    \"\"\"\n",
    "    return any(char.isdigit() for char in inputString)\n",
    "\n",
    "pathways = [] #array of the pathways with list of gene product names\n",
    "\n",
    "for url in urlList[0:]:\n",
    "    #visit each url and copy the gene product names \n",
    "    browser.visit(\"https://img.jgi.doe.gov/cgi-bin/mer/\" + url)\n",
    "    mainlst = browser.find_by_name('mainForm')\n",
    "    soup = BeautifulSoup(mainlst.html, \"html.parser\")\n",
    "    \n",
    "    #get text from the html and convert into a list of words\n",
    "    text = soup.find(\"p\").get_text()\n",
    "    text = text.replace(\"\\xa0\", \"\")\n",
    "    test = text.split('\\n')\n",
    "    \n",
    "    # find all the approriate pathway names (or those with numbers in them)\n",
    "    pathway = [] #the array of gene product names for a given a pathway with the pathway name as the 1st element\n",
    "    forfirst = 0\n",
    "    for elm in test:\n",
    "        if not elm.isspace() and not elm is '':\n",
    "            if hasNumbers(elm[0:11]):\n",
    "                #it is part of a pathway\n",
    "                pathway.append(elm[11:].lstrip())\n",
    "            else:\n",
    "                if forfirst == 0:\n",
    "                    pathway.append(elm)\n",
    "                    forfirst = 1\n",
    "                else:\n",
    "                    #make append the old pathway to the pathways array and make a new pathway\n",
    "                    pathways.append(pathway)\n",
    "                    pathway = []\n",
    "                    pathway.append(elm)\n",
    "    pathways.append(pathway)"
   ]
  },
  {
   "cell_type": "code",
   "execution_count": 27,
   "metadata": {
    "collapsed": true
   },
   "outputs": [],
   "source": [
    "#save data into a csv file\n",
    "csvfile = \"pathways.csv\"\n",
    "\n",
    "#Write each pathway as a row in the csv file\n",
    "with open(csvfile, \"w\") as output:\n",
    "    writer = csv.writer(output, lineterminator='\\n')\n",
    "    writer.writerows(pathways)"
   ]
  },
  {
   "cell_type": "code",
   "execution_count": 2,
   "metadata": {},
   "outputs": [
    {
     "name": "stdout",
     "output_type": "stream",
     "text": [
      "['Longevity regulating pathway - mammal', 'catalase', 'catalase', 'catalase', 'catalase', 'superoxide dismutase, Fe-Mn family']\n"
     ]
    },
    {
     "data": {
      "text/plain": [
       "['Longevity regulating pathway - mammal',\n",
       " 'catalase',\n",
       " 'superoxide dismutase, Fe-Mn family']"
      ]
     },
     "execution_count": 2,
     "metadata": {},
     "output_type": "execute_result"
    }
   ],
   "source": [
    "#getting the data from pathways.csv and saving it into another pathways2 array\n",
    "pathways2 = []\n",
    "with open(csvfile) as csvDataFile:\n",
    "        csvReader = csv.reader(csvDataFile)\n",
    "        for row in csvReader:\n",
    "            pathways2.append(row)\n",
    "#removing duplicates in pathways to make it easier to arrange the old data by pathway\n",
    "for index, pathway in enumerate(pathways2):\n",
    "    pathways2[index] = list(OrderedDict.fromkeys(pathway))"
   ]
  },
  {
   "cell_type": "code",
   "execution_count": 48,
   "metadata": {},
   "outputs": [
    {
     "name": "stdout",
     "output_type": "stream",
     "text": [
      "Column headings:\n",
      "Index(['gene ID', 'transcript ID', 'low1_1', 'low2_2', 'low3_3', 'high1_1',\n",
      "       'high2_2', 'high3_3', 'logFC', 'logCPM', 'LR', 'PValue', 'FDR',\n",
      "       'Gene Product Name'],\n",
      "      dtype='object')\n",
      "Index(['Pathway', 'log'], dtype='object')\n"
     ]
    }
   ],
   "source": [
    "#now I am going to actively analyze the edgeAll excel file and re-arrange and transfer the data to the results spreadsheet\n",
    "#don't forget to update the file names accordingly\n",
    "df1 = pd.read_excel('/home/cassandra/Halo Data Anlysis/edgeAll_with_Product_Name.xlsx')\n",
    "df2 = pd.read_excel('/home/cassandra/Halo Data Anlysis/results.xlsx')"
   ]
  },
  {
   "cell_type": "code",
   "execution_count": 36,
   "metadata": {},
   "outputs": [
    {
     "name": "stdout",
     "output_type": "stream",
     "text": [
      "480                 superoxide dismutase, Fe-Mn family  \n",
      "481    cell elongation-specific peptidoglycan D,D-tra...\n",
      "482                         penicillin-binding protein  \n",
      "483                               hypothetical protein  \n",
      "484                large subunit ribosomal protein L33  \n",
      "485              5-formyltetrahydrofolate cyclo-ligase  \n",
      "486    rhomboid family peptidase. Serine peptidase. M...\n",
      "487                       Uncharacterized protein YqgQ  \n",
      "488                                        glucokinase  \n",
      "489                               hypothetical protein  \n",
      "Name: Gene Product Name, dtype: object\n",
      "<class 'str'>\n"
     ]
    }
   ],
   "source": [
    "#This section makes an array from the elements in the Gene Product Name column in df1, it also prints out its first 10 elements\n",
    "list_proname = df1['Gene Product Name']\n",
    "print(list_proname[0:10])"
   ]
  },
  {
   "cell_type": "code",
   "execution_count": 47,
   "metadata": {},
   "outputs": [
    {
     "name": "stdout",
     "output_type": "stream",
     "text": [
      "480    0.279450\n",
      "481   -0.557643\n",
      "482    0.165016\n",
      "483   -1.424636\n",
      "484   -0.801628\n",
      "485    0.645176\n",
      "486   -1.064923\n",
      "487    1.564773\n",
      "488    0.738546\n",
      "489    0.056293\n",
      "Name: logFC, dtype: float64\n"
     ]
    }
   ],
   "source": [
    "#This section makes an array from the elements in the logFC column in df1, it also prints out its first 10 elements\n",
    "list_fc = df1['logFC']\n",
    "print(list_fc[0:10])"
   ]
  },
  {
   "cell_type": "code",
   "execution_count": 50,
   "metadata": {
    "collapsed": true
   },
   "outputs": [],
   "source": [
    "name_col = [] #the first column in the results spreadsheet with the pathway and gene product names \n",
    "fc_col = [] #the second column in the results spreadsheet with the logFC value \n",
    "\n",
    "#go through each pathway in pathways2 and look for matches in list_proname\n",
    "for index, pathway in enumerate(pathways2[0:]):\n",
    "    #the first element of pathway is just the pathway name so just append it to name_col\n",
    "    name_col.append(pathway[0])\n",
    "    fc_col.append('') #must append an empty string so the rows for both columns match up\n",
    "    #go through the other elements of pathway and check for matches in list_proname\n",
    "    for index, elm in enumerate(pathway[1:]):\n",
    "        for ind, name in enumerate(list_proname):\n",
    "            if name.lstrip().rstrip() == elm.lstrip().rstrip():\n",
    "                name_col.append(list_proname[ind].lstrip().rstrip())\n",
    "                fc_col.append(list_fc[ind])\n",
    "    #add an empty row after each pathway \n",
    "    name_col.append('')\n",
    "    fc_col.append('')"
   ]
  },
  {
   "cell_type": "code",
   "execution_count": 51,
   "metadata": {
    "collapsed": true
   },
   "outputs": [],
   "source": [
    "#create new data frames from the arrays and write them into the results spreadsheet\n",
    "# don't forget to update the file names accordingly\n",
    "df2['Pathway'] = name_col\n",
    "df2['log'] = fc_col\n",
    "df2.to_excel(\"/home/cassandra/Halo Data Anlysis/results.xlsx\")"
   ]
  }
 ],
 "metadata": {
  "kernelspec": {
   "display_name": "Python 3",
   "language": "python",
   "name": "python3"
  },
  "language_info": {
   "codemirror_mode": {
    "name": "ipython",
    "version": 3
   },
   "file_extension": ".py",
   "mimetype": "text/x-python",
   "name": "python",
   "nbconvert_exporter": "python",
   "pygments_lexer": "ipython3",
   "version": "3.5.2"
  }
 },
 "nbformat": 4,
 "nbformat_minor": 2
}
