{
 "cells": [
  {
   "cell_type": "code",
   "execution_count": 1,
   "metadata": {
    "collapsed": true
   },
   "outputs": [],
   "source": [
    "# import needed libraries\n",
    "import pandas as pd\n",
    "import numpy as np\n",
    "import plotly.plotly as py\n",
    "from plotly.graph_objs import *\n",
    "import plotly.tools as tls\n",
    "import plotly.graph_objs as go\n",
    "tls.set_credentials_file(username='softdesinfinity2', api_key='rVvqvP7LcJ9vC1WAixOv')\n",
    "# tls.set_credentials_file(username='enter info', api_key='enter info')"
   ]
  },
  {
   "cell_type": "code",
   "execution_count": 2,
   "metadata": {},
   "outputs": [
    {
     "name": "stdout",
     "output_type": "stream",
     "text": [
      "2.6.0\n"
     ]
    },
    {
     "data": {
      "text/html": [
       "<script>requirejs.config({paths: { 'plotly': ['https://cdn.plot.ly/plotly-latest.min']},});if(!window.Plotly) {{require(['plotly'],function(plotly) {window.Plotly=plotly;});}}</script>"
      ],
      "text/vnd.plotly.v1+html": [
       "<script>requirejs.config({paths: { 'plotly': ['https://cdn.plot.ly/plotly-latest.min']},});if(!window.Plotly) {{require(['plotly'],function(plotly) {window.Plotly=plotly;});}}</script>"
      ]
     },
     "metadata": {},
     "output_type": "display_data"
    }
   ],
   "source": [
    "from plotly import __version__\n",
    "from plotly.offline import download_plotlyjs, init_notebook_mode, plot, iplot\n",
    "\n",
    "print(__version__)\n",
    "init_notebook_mode(connected=True)"
   ]
  },
  {
   "cell_type": "code",
   "execution_count": 3,
   "metadata": {},
   "outputs": [
    {
     "data": {
      "text/html": [
       "<div>\n",
       "<style>\n",
       "    .dataframe thead tr:only-child th {\n",
       "        text-align: right;\n",
       "    }\n",
       "\n",
       "    .dataframe thead th {\n",
       "        text-align: left;\n",
       "    }\n",
       "\n",
       "    .dataframe tbody tr th {\n",
       "        vertical-align: top;\n",
       "    }\n",
       "</style>\n",
       "<table border=\"1\" class=\"dataframe\">\n",
       "  <thead>\n",
       "    <tr style=\"text-align: right;\">\n",
       "      <th></th>\n",
       "      <th>0</th>\n",
       "      <th>1</th>\n",
       "    </tr>\n",
       "  </thead>\n",
       "  <tbody>\n",
       "    <tr>\n",
       "      <th>0</th>\n",
       "      <td>-121.62872</td>\n",
       "      <td>-20.813715</td>\n",
       "    </tr>\n",
       "    <tr>\n",
       "      <th>1</th>\n",
       "      <td>-136.16915</td>\n",
       "      <td>-21.412190</td>\n",
       "    </tr>\n",
       "    <tr>\n",
       "      <th>2</th>\n",
       "      <td>-120.50745</td>\n",
       "      <td>-29.505377</td>\n",
       "    </tr>\n",
       "    <tr>\n",
       "      <th>3</th>\n",
       "      <td>-44.40225</td>\n",
       "      <td>-62.377070</td>\n",
       "    </tr>\n",
       "    <tr>\n",
       "      <th>4</th>\n",
       "      <td>-114.72030</td>\n",
       "      <td>-26.217306</td>\n",
       "    </tr>\n",
       "    <tr>\n",
       "      <th>5</th>\n",
       "      <td>-141.79703</td>\n",
       "      <td>-27.362968</td>\n",
       "    </tr>\n",
       "    <tr>\n",
       "      <th>6</th>\n",
       "      <td>-156.10744</td>\n",
       "      <td>-3.255496</td>\n",
       "    </tr>\n",
       "    <tr>\n",
       "      <th>7</th>\n",
       "      <td>-135.90735</td>\n",
       "      <td>-16.102484</td>\n",
       "    </tr>\n",
       "    <tr>\n",
       "      <th>8</th>\n",
       "      <td>-122.94106</td>\n",
       "      <td>-3.269800</td>\n",
       "    </tr>\n",
       "    <tr>\n",
       "      <th>9</th>\n",
       "      <td>-54.19590</td>\n",
       "      <td>-40.947906</td>\n",
       "    </tr>\n",
       "    <tr>\n",
       "      <th>10</th>\n",
       "      <td>-107.52469</td>\n",
       "      <td>-18.660484</td>\n",
       "    </tr>\n",
       "    <tr>\n",
       "      <th>11</th>\n",
       "      <td>-215.60984</td>\n",
       "      <td>23.306998</td>\n",
       "    </tr>\n",
       "    <tr>\n",
       "      <th>12</th>\n",
       "      <td>636.87195</td>\n",
       "      <td>-203.544378</td>\n",
       "    </tr>\n",
       "    <tr>\n",
       "      <th>13</th>\n",
       "      <td>147.87535</td>\n",
       "      <td>162.238619</td>\n",
       "    </tr>\n",
       "    <tr>\n",
       "      <th>14</th>\n",
       "      <td>328.44650</td>\n",
       "      <td>246.699551</td>\n",
       "    </tr>\n",
       "    <tr>\n",
       "      <th>15</th>\n",
       "      <td>121.92437</td>\n",
       "      <td>53.213950</td>\n",
       "    </tr>\n",
       "    <tr>\n",
       "      <th>16</th>\n",
       "      <td>236.39300</td>\n",
       "      <td>-11.989943</td>\n",
       "    </tr>\n",
       "  </tbody>\n",
       "</table>\n",
       "</div>"
      ],
      "text/plain": [
       "            0           1\n",
       "0  -121.62872  -20.813715\n",
       "1  -136.16915  -21.412190\n",
       "2  -120.50745  -29.505377\n",
       "3   -44.40225  -62.377070\n",
       "4  -114.72030  -26.217306\n",
       "5  -141.79703  -27.362968\n",
       "6  -156.10744   -3.255496\n",
       "7  -135.90735  -16.102484\n",
       "8  -122.94106   -3.269800\n",
       "9   -54.19590  -40.947906\n",
       "10 -107.52469  -18.660484\n",
       "11 -215.60984   23.306998\n",
       "12  636.87195 -203.544378\n",
       "13  147.87535  162.238619\n",
       "14  328.44650  246.699551\n",
       "15  121.92437   53.213950\n",
       "16  236.39300  -11.989943"
      ]
     },
     "execution_count": 3,
     "metadata": {},
     "output_type": "execute_result"
    }
   ],
   "source": [
    "#Create a DataFrame containing the data you wish to analyze.\n",
    "#In this case it is the GH metagenomics data\n",
    "df = pd.read_csv(\n",
    "    filepath_or_buffer='LivEuclideanPCoA.csv', \n",
    "    header=None, \n",
    "    sep=',')\n",
    "df"
   ]
  },
  {
   "cell_type": "code",
   "execution_count": 4,
   "metadata": {},
   "outputs": [
    {
     "name": "stdout",
     "output_type": "stream",
     "text": [
      "[[-121.62872   -20.813715]\n",
      " [-136.16915   -21.41219 ]\n",
      " [-120.50745   -29.505377]\n",
      " [ -44.40225   -62.37707 ]\n",
      " [-114.7203    -26.217306]\n",
      " [-141.79703   -27.362968]\n",
      " [-156.10744    -3.255496]\n",
      " [-135.90735   -16.102484]\n",
      " [-122.94106    -3.2698  ]\n",
      " [ -54.1959    -40.947906]\n",
      " [-107.52469   -18.660484]\n",
      " [-215.60984    23.306998]\n",
      " [ 636.87195  -203.544378]\n",
      " [ 147.87535   162.238619]\n",
      " [ 328.4465    246.699551]\n",
      " [ 121.92437    53.21395 ]\n",
      " [ 236.393     -11.989943]]\n"
     ]
    },
    {
     "name": "stderr",
     "output_type": "stream",
     "text": [
      "C:\\ProgramData\\Miniconda3\\lib\\site-packages\\ipykernel_launcher.py:2: DeprecationWarning:\n",
      "\n",
      "\n",
      ".ix is deprecated. Please use\n",
      ".loc for label based indexing or\n",
      ".iloc for positional indexing\n",
      "\n",
      "See the documentation here:\n",
      "http://pandas.pydata.org/pandas-docs/stable/indexing.html#ix-indexer-is-deprecated\n",
      "\n"
     ]
    }
   ],
   "source": [
    "#Show another way to get a Numpy representation of a Dataframe\n",
    "D = df.ix[:,0:].values\n",
    "print(D)"
   ]
  },
  {
   "cell_type": "code",
   "execution_count": 5,
   "metadata": {},
   "outputs": [
    {
     "data": {
      "text/html": [
       "<iframe id=\"igraph\" scrolling=\"no\" style=\"border:none;\" seamless=\"seamless\" src=\"https://plot.ly/~softdesinfinity2/83.embed\" height=\"525px\" width=\"100%\"></iframe>"
      ],
      "text/plain": [
       "<plotly.tools.PlotlyDisplay object>"
      ]
     },
     "execution_count": 5,
     "metadata": {},
     "output_type": "execute_result"
    }
   ],
   "source": [
    "#Plot the two dominant principal components from PCA on a 2d axis\n",
    "traces = []\n",
    "\n",
    "trace1 = go.Scatter(\n",
    "    x=D[:6,0],\n",
    "    y=D[:6,1],\n",
    "    mode='markers',\n",
    "    text=['FCW18b', 'FCF6TC3', 'FCP16c', 'FCS17a', 'FCX16C', 'FCR15b'],\n",
    "#     textposition='bottom',\n",
    "    hoverinfo = 'text',\n",
    "    name='Freshwater Cultures',\n",
    "    marker=Marker(\n",
    "            size=12,\n",
    "            line=Line(\n",
    "                color='rgba(217, 217, 217, 0.14)',\n",
    "                width=0.5),\n",
    "            opacity=0.8))\n",
    "\n",
    "traces.append(trace1)\n",
    "\n",
    "trace2 = go.Scatter(\n",
    "    x=D[6:11,0],\n",
    "    y=D[6:11,1],\n",
    "    mode='markers',\n",
    "    text=['SCB14c', 'SCR11c', 'SCD17c', 'SCQ17a', 'SCH14a'],\n",
    "#     textposition='bottom',\n",
    "    hoverinfo = 'text',\n",
    "    name='Marine Cultures',\n",
    "    marker=Marker(\n",
    "            size=12,\n",
    "            line=Line(\n",
    "                color='green',\n",
    "                width=0.5),\n",
    "            opacity=0.8))\n",
    "\n",
    "traces.append(trace2)\n",
    "\n",
    "trace3 = go.Scatter(\n",
    "    x=D[11:,0],\n",
    "    y=D[11:,1],\n",
    "    mode='markers',\n",
    "    text = ['45591', '66722', '148651', '145604', '66718', '55268'],\n",
    "#     textposition='bottom',\n",
    "    hoverinfo = 'text',\n",
    "    name='Environmental Samples',\n",
    "    marker=Marker(\n",
    "            size=12,\n",
    "            line=Line(\n",
    "                color='rgba(217, 217, 217, 0.14)',\n",
    "                width=0.5),\n",
    "            opacity=0.8))\n",
    "\n",
    "traces.append(trace3)\n",
    "\n",
    "data = Data(traces)\n",
    "\n",
    "layout = Layout(showlegend=True,\n",
    "                xaxis=dict(title='PC1',),\n",
    "                yaxis=dict(title='PC2',),\n",
    "                title='Euclidean PCoA of GH Data',\n",
    "                font=dict(size=16),\n",
    "                margin=dict(t=50, b=50, r=0, l=60)\n",
    "               )\n",
    "\n",
    "fig = go.Figure(data=data, layout=layout)\n",
    "py.iplot(fig, filename='2d_PCA')"
   ]
  },
  {
   "cell_type": "code",
   "execution_count": null,
   "metadata": {
    "collapsed": true
   },
   "outputs": [],
   "source": []
  }
 ],
 "metadata": {
  "kernelspec": {
   "display_name": "Python 3",
   "language": "python",
   "name": "python3"
  },
  "language_info": {
   "codemirror_mode": {
    "name": "ipython",
    "version": 3
   },
   "file_extension": ".py",
   "mimetype": "text/x-python",
   "name": "python",
   "nbconvert_exporter": "python",
   "pygments_lexer": "ipython3",
   "version": "3.6.1"
  }
 },
 "nbformat": 4,
 "nbformat_minor": 2
}
