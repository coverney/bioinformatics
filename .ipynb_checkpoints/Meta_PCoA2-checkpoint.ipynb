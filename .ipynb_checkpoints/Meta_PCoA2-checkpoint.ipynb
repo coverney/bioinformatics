{
 "cells": [
  {
   "cell_type": "code",
   "execution_count": 1,
   "metadata": {
    "collapsed": true
   },
   "outputs": [],
   "source": [
    "# import needed libraries\n",
    "import pandas as pd\n",
    "import numpy as np\n",
    "import plotly.plotly as py\n",
    "from plotly.graph_objs import *\n",
    "import plotly.tools as tls\n",
    "import plotly.graph_objs as go\n",
    "tls.set_credentials_file(username='softdesinfinity2', api_key='rVvqvP7LcJ9vC1WAixOv')\n",
    "# tls.set_credentials_file(username='enter info', api_key='enter info')\n",
    "# http://ecology.msu.montana.edu/labdsv/R/labs/lab8/lab8.html used to find out variance in RStudio"
   ]
  },
  {
   "cell_type": "code",
   "execution_count": 2,
   "metadata": {},
   "outputs": [
    {
     "name": "stdout",
     "output_type": "stream",
     "text": [
      "2.6.0\n"
     ]
    },
    {
     "data": {
      "text/html": [
       "<script>requirejs.config({paths: { 'plotly': ['https://cdn.plot.ly/plotly-latest.min']},});if(!window.Plotly) {{require(['plotly'],function(plotly) {window.Plotly=plotly;});}}</script>"
      ],
      "text/vnd.plotly.v1+html": [
       "<script>requirejs.config({paths: { 'plotly': ['https://cdn.plot.ly/plotly-latest.min']},});if(!window.Plotly) {{require(['plotly'],function(plotly) {window.Plotly=plotly;});}}</script>"
      ]
     },
     "metadata": {},
     "output_type": "display_data"
    }
   ],
   "source": [
    "from plotly import __version__\n",
    "from plotly.offline import download_plotlyjs, init_notebook_mode, plot, iplot\n",
    "\n",
    "print(__version__)\n",
    "init_notebook_mode(connected=True)"
   ]
  },
  {
   "cell_type": "code",
   "execution_count": 3,
   "metadata": {},
   "outputs": [
    {
     "data": {
      "text/html": [
       "<div>\n",
       "<style>\n",
       "    .dataframe thead tr:only-child th {\n",
       "        text-align: right;\n",
       "    }\n",
       "\n",
       "    .dataframe thead th {\n",
       "        text-align: left;\n",
       "    }\n",
       "\n",
       "    .dataframe tbody tr th {\n",
       "        vertical-align: top;\n",
       "    }\n",
       "</style>\n",
       "<table border=\"1\" class=\"dataframe\">\n",
       "  <thead>\n",
       "    <tr style=\"text-align: right;\">\n",
       "      <th></th>\n",
       "      <th>0</th>\n",
       "      <th>1</th>\n",
       "    </tr>\n",
       "  </thead>\n",
       "  <tbody>\n",
       "    <tr>\n",
       "      <th>0</th>\n",
       "      <td>-0.134256</td>\n",
       "      <td>0.096272</td>\n",
       "    </tr>\n",
       "    <tr>\n",
       "      <th>1</th>\n",
       "      <td>-0.165624</td>\n",
       "      <td>-0.093455</td>\n",
       "    </tr>\n",
       "    <tr>\n",
       "      <th>2</th>\n",
       "      <td>-0.125949</td>\n",
       "      <td>-0.110570</td>\n",
       "    </tr>\n",
       "    <tr>\n",
       "      <th>3</th>\n",
       "      <td>0.046949</td>\n",
       "      <td>-0.121258</td>\n",
       "    </tr>\n",
       "    <tr>\n",
       "      <th>4</th>\n",
       "      <td>-0.124369</td>\n",
       "      <td>-0.106071</td>\n",
       "    </tr>\n",
       "    <tr>\n",
       "      <th>5</th>\n",
       "      <td>-0.161109</td>\n",
       "      <td>-0.104217</td>\n",
       "    </tr>\n",
       "    <tr>\n",
       "      <th>6</th>\n",
       "      <td>-0.278040</td>\n",
       "      <td>-0.005330</td>\n",
       "    </tr>\n",
       "    <tr>\n",
       "      <th>7</th>\n",
       "      <td>-0.173124</td>\n",
       "      <td>-0.092430</td>\n",
       "    </tr>\n",
       "    <tr>\n",
       "      <th>8</th>\n",
       "      <td>-0.143053</td>\n",
       "      <td>-0.102713</td>\n",
       "    </tr>\n",
       "    <tr>\n",
       "      <th>9</th>\n",
       "      <td>0.035398</td>\n",
       "      <td>-0.120108</td>\n",
       "    </tr>\n",
       "    <tr>\n",
       "      <th>10</th>\n",
       "      <td>-0.132053</td>\n",
       "      <td>-0.080437</td>\n",
       "    </tr>\n",
       "    <tr>\n",
       "      <th>11</th>\n",
       "      <td>-0.355984</td>\n",
       "      <td>0.614776</td>\n",
       "    </tr>\n",
       "    <tr>\n",
       "      <th>12</th>\n",
       "      <td>0.460405</td>\n",
       "      <td>0.196445</td>\n",
       "    </tr>\n",
       "    <tr>\n",
       "      <th>13</th>\n",
       "      <td>0.245750</td>\n",
       "      <td>0.033257</td>\n",
       "    </tr>\n",
       "    <tr>\n",
       "      <th>14</th>\n",
       "      <td>0.323030</td>\n",
       "      <td>0.052974</td>\n",
       "    </tr>\n",
       "    <tr>\n",
       "      <th>15</th>\n",
       "      <td>0.243492</td>\n",
       "      <td>0.016921</td>\n",
       "    </tr>\n",
       "    <tr>\n",
       "      <th>16</th>\n",
       "      <td>0.304283</td>\n",
       "      <td>0.022216</td>\n",
       "    </tr>\n",
       "  </tbody>\n",
       "</table>\n",
       "</div>"
      ],
      "text/plain": [
       "           0         1\n",
       "0  -0.134256  0.096272\n",
       "1  -0.165624 -0.093455\n",
       "2  -0.125949 -0.110570\n",
       "3   0.046949 -0.121258\n",
       "4  -0.124369 -0.106071\n",
       "5  -0.161109 -0.104217\n",
       "6  -0.278040 -0.005330\n",
       "7  -0.173124 -0.092430\n",
       "8  -0.143053 -0.102713\n",
       "9   0.035398 -0.120108\n",
       "10 -0.132053 -0.080437\n",
       "11 -0.355984  0.614776\n",
       "12  0.460405  0.196445\n",
       "13  0.245750  0.033257\n",
       "14  0.323030  0.052974\n",
       "15  0.243492  0.016921\n",
       "16  0.304283  0.022216"
      ]
     },
     "execution_count": 3,
     "metadata": {},
     "output_type": "execute_result"
    }
   ],
   "source": [
    "#Create a DataFrame containing the data you wish to analyze.\n",
    "#In this case it is the GH metagenomics data\n",
    "df = pd.read_csv(\n",
    "    filepath_or_buffer='LivBrayPCoA.csv', \n",
    "    header=None, \n",
    "    sep=',')\n",
    "df\n",
    "\n",
    "# PC1 explains 50.1% varation of data\n",
    "# PC2 explains 29.3% varation of data"
   ]
  },
  {
   "cell_type": "code",
   "execution_count": 4,
   "metadata": {},
   "outputs": [
    {
     "data": {
      "text/html": [
       "<div>\n",
       "<style>\n",
       "    .dataframe thead tr:only-child th {\n",
       "        text-align: right;\n",
       "    }\n",
       "\n",
       "    .dataframe thead th {\n",
       "        text-align: left;\n",
       "    }\n",
       "\n",
       "    .dataframe tbody tr th {\n",
       "        vertical-align: top;\n",
       "    }\n",
       "</style>\n",
       "<table border=\"1\" class=\"dataframe\">\n",
       "  <thead>\n",
       "    <tr style=\"text-align: right;\">\n",
       "      <th></th>\n",
       "      <th>0</th>\n",
       "      <th>1</th>\n",
       "    </tr>\n",
       "  </thead>\n",
       "  <tbody>\n",
       "    <tr>\n",
       "      <th>0</th>\n",
       "      <td>-121.62872</td>\n",
       "      <td>-20.813715</td>\n",
       "    </tr>\n",
       "    <tr>\n",
       "      <th>1</th>\n",
       "      <td>-136.16915</td>\n",
       "      <td>-21.412190</td>\n",
       "    </tr>\n",
       "    <tr>\n",
       "      <th>2</th>\n",
       "      <td>-120.50745</td>\n",
       "      <td>-29.505377</td>\n",
       "    </tr>\n",
       "    <tr>\n",
       "      <th>3</th>\n",
       "      <td>-44.40225</td>\n",
       "      <td>-62.377070</td>\n",
       "    </tr>\n",
       "    <tr>\n",
       "      <th>4</th>\n",
       "      <td>-114.72030</td>\n",
       "      <td>-26.217306</td>\n",
       "    </tr>\n",
       "    <tr>\n",
       "      <th>5</th>\n",
       "      <td>-141.79703</td>\n",
       "      <td>-27.362968</td>\n",
       "    </tr>\n",
       "    <tr>\n",
       "      <th>6</th>\n",
       "      <td>-156.10744</td>\n",
       "      <td>-3.255496</td>\n",
       "    </tr>\n",
       "    <tr>\n",
       "      <th>7</th>\n",
       "      <td>-135.90735</td>\n",
       "      <td>-16.102484</td>\n",
       "    </tr>\n",
       "    <tr>\n",
       "      <th>8</th>\n",
       "      <td>-122.94106</td>\n",
       "      <td>-3.269800</td>\n",
       "    </tr>\n",
       "    <tr>\n",
       "      <th>9</th>\n",
       "      <td>-54.19590</td>\n",
       "      <td>-40.947906</td>\n",
       "    </tr>\n",
       "    <tr>\n",
       "      <th>10</th>\n",
       "      <td>-107.52469</td>\n",
       "      <td>-18.660484</td>\n",
       "    </tr>\n",
       "    <tr>\n",
       "      <th>11</th>\n",
       "      <td>-215.60984</td>\n",
       "      <td>23.306998</td>\n",
       "    </tr>\n",
       "    <tr>\n",
       "      <th>12</th>\n",
       "      <td>636.87195</td>\n",
       "      <td>-203.544378</td>\n",
       "    </tr>\n",
       "    <tr>\n",
       "      <th>13</th>\n",
       "      <td>147.87535</td>\n",
       "      <td>162.238619</td>\n",
       "    </tr>\n",
       "    <tr>\n",
       "      <th>14</th>\n",
       "      <td>328.44650</td>\n",
       "      <td>246.699551</td>\n",
       "    </tr>\n",
       "    <tr>\n",
       "      <th>15</th>\n",
       "      <td>121.92437</td>\n",
       "      <td>53.213950</td>\n",
       "    </tr>\n",
       "    <tr>\n",
       "      <th>16</th>\n",
       "      <td>236.39300</td>\n",
       "      <td>-11.989943</td>\n",
       "    </tr>\n",
       "  </tbody>\n",
       "</table>\n",
       "</div>"
      ],
      "text/plain": [
       "            0           1\n",
       "0  -121.62872  -20.813715\n",
       "1  -136.16915  -21.412190\n",
       "2  -120.50745  -29.505377\n",
       "3   -44.40225  -62.377070\n",
       "4  -114.72030  -26.217306\n",
       "5  -141.79703  -27.362968\n",
       "6  -156.10744   -3.255496\n",
       "7  -135.90735  -16.102484\n",
       "8  -122.94106   -3.269800\n",
       "9   -54.19590  -40.947906\n",
       "10 -107.52469  -18.660484\n",
       "11 -215.60984   23.306998\n",
       "12  636.87195 -203.544378\n",
       "13  147.87535  162.238619\n",
       "14  328.44650  246.699551\n",
       "15  121.92437   53.213950\n",
       "16  236.39300  -11.989943"
      ]
     },
     "execution_count": 4,
     "metadata": {},
     "output_type": "execute_result"
    }
   ],
   "source": [
    "#Create a DataFrame containing the data you wish to analyze.\n",
    "#In this case it is the GH metagenomics data\n",
    "df2 = pd.read_csv(\n",
    "    filepath_or_buffer='LivEuclideanPCoA.csv', \n",
    "    header=None, \n",
    "    sep=',')\n",
    "df2\n",
    "\n",
    "# PC1 explains 78.7% varation of data\n",
    "# PC2 explains 13.8% varation of data"
   ]
  },
  {
   "cell_type": "code",
   "execution_count": 5,
   "metadata": {},
   "outputs": [
    {
     "name": "stdout",
     "output_type": "stream",
     "text": [
      "[[-0.13425594  0.09627191]\n",
      " [-0.16562385 -0.09345452]\n",
      " [-0.12594909 -0.11057026]\n",
      " [ 0.0469486  -0.1212579 ]\n",
      " [-0.12436915 -0.10607087]\n",
      " [-0.16110865 -0.1042169 ]\n",
      " [-0.27803994 -0.00533019]\n",
      " [-0.17312418 -0.09242965]\n",
      " [-0.14305299 -0.10271282]\n",
      " [ 0.03539758 -0.12010837]\n",
      " [-0.13205309 -0.08043693]\n",
      " [-0.35598446  0.61477586]\n",
      " [ 0.46040499  0.19644497]\n",
      " [ 0.24574964  0.03325677]\n",
      " [ 0.32302959  0.05297353]\n",
      " [ 0.24349153  0.01692129]\n",
      " [ 0.30428348  0.02221598]]\n"
     ]
    },
    {
     "name": "stderr",
     "output_type": "stream",
     "text": [
      "C:\\ProgramData\\Miniconda3\\lib\\site-packages\\ipykernel_launcher.py:2: DeprecationWarning:\n",
      "\n",
      "\n",
      ".ix is deprecated. Please use\n",
      ".loc for label based indexing or\n",
      ".iloc for positional indexing\n",
      "\n",
      "See the documentation here:\n",
      "http://pandas.pydata.org/pandas-docs/stable/indexing.html#ix-indexer-is-deprecated\n",
      "\n"
     ]
    }
   ],
   "source": [
    "#Show another way to get a Numpy representation of a Dataframe\n",
    "D = df.ix[:,0:].values\n",
    "print(D)"
   ]
  },
  {
   "cell_type": "code",
   "execution_count": 6,
   "metadata": {},
   "outputs": [
    {
     "name": "stdout",
     "output_type": "stream",
     "text": [
      "[[-121.62872   -20.813715]\n",
      " [-136.16915   -21.41219 ]\n",
      " [-120.50745   -29.505377]\n",
      " [ -44.40225   -62.37707 ]\n",
      " [-114.7203    -26.217306]\n",
      " [-141.79703   -27.362968]\n",
      " [-156.10744    -3.255496]\n",
      " [-135.90735   -16.102484]\n",
      " [-122.94106    -3.2698  ]\n",
      " [ -54.1959    -40.947906]\n",
      " [-107.52469   -18.660484]\n",
      " [-215.60984    23.306998]\n",
      " [ 636.87195  -203.544378]\n",
      " [ 147.87535   162.238619]\n",
      " [ 328.4465    246.699551]\n",
      " [ 121.92437    53.21395 ]\n",
      " [ 236.393     -11.989943]]\n"
     ]
    },
    {
     "name": "stderr",
     "output_type": "stream",
     "text": [
      "C:\\ProgramData\\Miniconda3\\lib\\site-packages\\ipykernel_launcher.py:2: DeprecationWarning:\n",
      "\n",
      "\n",
      ".ix is deprecated. Please use\n",
      ".loc for label based indexing or\n",
      ".iloc for positional indexing\n",
      "\n",
      "See the documentation here:\n",
      "http://pandas.pydata.org/pandas-docs/stable/indexing.html#ix-indexer-is-deprecated\n",
      "\n"
     ]
    }
   ],
   "source": [
    "#Show another way to get a Numpy representation of a Dataframe\n",
    "D2 = df2.ix[:,0:].values\n",
    "print(D2)"
   ]
  },
  {
   "cell_type": "code",
   "execution_count": 20,
   "metadata": {},
   "outputs": [
    {
     "name": "stdout",
     "output_type": "stream",
     "text": [
      "This is the format of your plot grid:\n",
      "[ (1,1) x1,y1 ]  [ (1,2) x2,y2 ]\n",
      "\n"
     ]
    },
    {
     "data": {
      "application/vnd.plotly.v1+json": {
       "data": [
        {
         "hoverinfo": "text",
         "marker": {
          "color": "#1f77b4",
          "line": {
           "color": "rgba(217, 217, 217, 0.14)",
           "width": 0.5
          },
          "opacity": 0.8,
          "size": 12
         },
         "mode": "markers",
         "name": "Freshwater Enrichments",
         "text": [
          "FCW18b",
          "FCF6TC3",
          "FCP16c",
          "FCS17a",
          "FCX16C",
          "FCR15b"
         ],
         "type": "scatter",
         "x": [
          -0.13425594,
          -0.16562385,
          -0.12594909,
          0.0469486,
          -0.12436915,
          -0.16110865
         ],
         "xaxis": "x1",
         "y": [
          0.09627191,
          -0.093454516,
          -0.11057026199999999,
          -0.1212579,
          -0.106070867,
          -0.10421690300000001
         ],
         "yaxis": "y1"
        },
        {
         "hoverinfo": "text",
         "marker": {
          "color": "#1f77b4",
          "line": {
           "color": "rgba(217, 217, 217, 0.14)",
           "width": 0.5
          },
          "opacity": 0.8,
          "size": 12
         },
         "mode": "markers",
         "name": "Freshwater Enrichments",
         "showlegend": false,
         "text": [
          "FCW18b",
          "FCF6TC3",
          "FCP16c",
          "FCS17a",
          "FCX16C",
          "FCR15b"
         ],
         "type": "scatter",
         "x": [
          -121.62872,
          -136.16915,
          -120.50745,
          -44.40225,
          -114.7203,
          -141.79703
         ],
         "xaxis": "x2",
         "y": [
          -20.813715,
          -21.41219,
          -29.505377000000003,
          -62.377069999999996,
          -26.217306,
          -27.362968
         ],
         "yaxis": "y2"
        },
        {
         "hoverinfo": "text",
         "marker": {
          "color": "#ff7f0e",
          "line": {
           "color": "green",
           "width": 0.5
          },
          "opacity": 0.8,
          "size": 12
         },
         "mode": "markers",
         "name": "Saltwater Enrichments",
         "text": [
          "SCB14c",
          "SCR11c",
          "SCD17c",
          "SCQ17a",
          "SCH14a"
         ],
         "type": "scatter",
         "x": [
          -0.27803994,
          -0.17312418,
          -0.14305299,
          0.03539758,
          -0.13205309
         ],
         "xaxis": "x1",
         "y": [
          -0.005330185,
          -0.092429651,
          -0.10271282300000001,
          -0.120108367,
          -0.080436927
         ],
         "yaxis": "y1"
        },
        {
         "hoverinfo": "text",
         "marker": {
          "color": "#ff7f0e",
          "line": {
           "color": "green",
           "width": 0.5
          },
          "opacity": 0.8,
          "size": 12
         },
         "mode": "markers",
         "name": "Saltwater Enrichments",
         "showlegend": false,
         "text": [
          "SCB14c",
          "SCR11c",
          "SCD17c",
          "SCQ17a",
          "SCH14a"
         ],
         "type": "scatter",
         "x": [
          -156.10744,
          -135.90735,
          -122.94106000000001,
          -54.1959,
          -107.52468999999999
         ],
         "xaxis": "x2",
         "y": [
          -3.255496,
          -16.102484,
          -3.2698,
          -40.947906,
          -18.660484
         ],
         "yaxis": "y2"
        },
        {
         "hoverinfo": "text",
         "marker": {
          "color": "#2ca02c",
          "line": {
           "color": "rgba(217, 217, 217, 0.14)",
           "width": 0.5
          },
          "opacity": 0.8,
          "size": 12
         },
         "mode": "markers",
         "name": "Environmental Samples",
         "text": [
          "45591",
          "66722",
          "148651",
          "145604",
          "66718",
          "55268"
         ],
         "type": "scatter",
         "x": [
          -0.35598446,
          0.46040499,
          0.24574964,
          0.32302959,
          0.24349153,
          0.30428348
         ],
         "xaxis": "x1",
         "y": [
          0.614775863,
          0.196444967,
          0.03325677,
          0.052973532000000004,
          0.016921285,
          0.022215982000000002
         ],
         "yaxis": "y1"
        },
        {
         "hoverinfo": "text",
         "marker": {
          "color": "#2ca02c",
          "line": {
           "color": "rgba(217, 217, 217, 0.14)",
           "width": 0.5
          },
          "opacity": 0.8,
          "size": 12
         },
         "mode": "markers",
         "name": "Environmental Samples",
         "showlegend": false,
         "text": [
          "45591",
          "66722",
          "148651",
          "145604",
          "66718",
          "55268"
         ],
         "type": "scatter",
         "x": [
          -215.60984,
          636.87195,
          147.87535,
          328.4465,
          121.92437,
          236.393
         ],
         "xaxis": "x2",
         "y": [
          23.306998,
          -203.544378,
          162.238619,
          246.69955099999999,
          53.21395,
          -11.989942999999998
         ],
         "yaxis": "y2"
        }
       ],
       "layout": {
        "legend": {
         "orientation": "h",
         "xanchor": "center",
         "y": -0.33
        },
        "xaxis1": {
         "anchor": "y1",
         "domain": [
          0,
          0.375
         ],
         "title": "PC1 (50.1%)"
        },
        "xaxis2": {
         "anchor": "y2",
         "domain": [
          0.625,
          1
         ],
         "title": "PC1 (78.7%)"
        },
        "yaxis1": {
         "anchor": "x1",
         "domain": [
          0,
          1
         ],
         "title": "PC2 (29.3%)"
        },
        "yaxis2": {
         "anchor": "x2",
         "domain": [
          0,
          1
         ],
         "title": "PC2 (13.8%)"
        }
       }
      },
      "text/html": [
       "<div id=\"15040ff5-706c-4d35-9471-57d633ec941c\" style=\"height: 525px; width: 100%;\" class=\"plotly-graph-div\"></div><script type=\"text/javascript\">require([\"plotly\"], function(Plotly) { window.PLOTLYENV=window.PLOTLYENV || {};window.PLOTLYENV.BASE_URL=\"https://plot.ly\";Plotly.newPlot(\"15040ff5-706c-4d35-9471-57d633ec941c\", [{\"type\": \"scatter\", \"x\": [-0.13425594, -0.16562385, -0.12594909, 0.0469486, -0.12436915, -0.16110865], \"y\": [0.09627191, -0.093454516, -0.11057026199999999, -0.1212579, -0.106070867, -0.10421690300000001], \"mode\": \"markers\", \"text\": [\"FCW18b\", \"FCF6TC3\", \"FCP16c\", \"FCS17a\", \"FCX16C\", \"FCR15b\"], \"hoverinfo\": \"text\", \"name\": \"Freshwater Enrichments\", \"marker\": {\"size\": 12, \"color\": \"#1f77b4\", \"line\": {\"color\": \"rgba(217, 217, 217, 0.14)\", \"width\": 0.5}, \"opacity\": 0.8}, \"xaxis\": \"x1\", \"yaxis\": \"y1\"}, {\"type\": \"scatter\", \"x\": [-121.62872, -136.16915, -120.50745, -44.40225, -114.7203, -141.79703], \"y\": [-20.813715, -21.41219, -29.505377000000003, -62.377069999999996, -26.217306, -27.362968], \"mode\": \"markers\", \"text\": [\"FCW18b\", \"FCF6TC3\", \"FCP16c\", \"FCS17a\", \"FCX16C\", \"FCR15b\"], \"hoverinfo\": \"text\", \"name\": \"Freshwater Enrichments\", \"marker\": {\"size\": 12, \"color\": \"#1f77b4\", \"line\": {\"color\": \"rgba(217, 217, 217, 0.14)\", \"width\": 0.5}, \"opacity\": 0.8}, \"showlegend\": false, \"xaxis\": \"x2\", \"yaxis\": \"y2\"}, {\"type\": \"scatter\", \"x\": [-0.27803994, -0.17312418, -0.14305299, 0.03539758, -0.13205309], \"y\": [-0.005330185, -0.092429651, -0.10271282300000001, -0.120108367, -0.080436927], \"mode\": \"markers\", \"text\": [\"SCB14c\", \"SCR11c\", \"SCD17c\", \"SCQ17a\", \"SCH14a\"], \"hoverinfo\": \"text\", \"name\": \"Saltwater Enrichments\", \"marker\": {\"size\": 12, \"color\": \"#ff7f0e\", \"line\": {\"color\": \"green\", \"width\": 0.5}, \"opacity\": 0.8}, \"xaxis\": \"x1\", \"yaxis\": \"y1\"}, {\"type\": \"scatter\", \"x\": [-156.10744, -135.90735, -122.94106000000001, -54.1959, -107.52468999999999], \"y\": [-3.255496, -16.102484, -3.2698, -40.947906, -18.660484], \"mode\": \"markers\", \"text\": [\"SCB14c\", \"SCR11c\", \"SCD17c\", \"SCQ17a\", \"SCH14a\"], \"hoverinfo\": \"text\", \"name\": \"Saltwater Enrichments\", \"marker\": {\"size\": 12, \"color\": \"#ff7f0e\", \"line\": {\"color\": \"green\", \"width\": 0.5}, \"opacity\": 0.8}, \"showlegend\": false, \"xaxis\": \"x2\", \"yaxis\": \"y2\"}, {\"type\": \"scatter\", \"x\": [-0.35598446, 0.46040499, 0.24574964, 0.32302959, 0.24349153, 0.30428348], \"y\": [0.614775863, 0.196444967, 0.03325677, 0.052973532000000004, 0.016921285, 0.022215982000000002], \"mode\": \"markers\", \"text\": [\"45591\", \"66722\", \"148651\", \"145604\", \"66718\", \"55268\"], \"hoverinfo\": \"text\", \"name\": \"Environmental Samples\", \"marker\": {\"size\": 12, \"color\": \"#2ca02c\", \"line\": {\"color\": \"rgba(217, 217, 217, 0.14)\", \"width\": 0.5}, \"opacity\": 0.8}, \"xaxis\": \"x1\", \"yaxis\": \"y1\"}, {\"type\": \"scatter\", \"x\": [-215.60984, 636.87195, 147.87535, 328.4465, 121.92437, 236.393], \"y\": [23.306998, -203.544378, 162.238619, 246.69955099999999, 53.21395, -11.989942999999998], \"mode\": \"markers\", \"text\": [\"45591\", \"66722\", \"148651\", \"145604\", \"66718\", \"55268\"], \"hoverinfo\": \"text\", \"name\": \"Environmental Samples\", \"marker\": {\"size\": 12, \"color\": \"#2ca02c\", \"line\": {\"color\": \"rgba(217, 217, 217, 0.14)\", \"width\": 0.5}, \"opacity\": 0.8}, \"showlegend\": false, \"xaxis\": \"x2\", \"yaxis\": \"y2\"}], {\"xaxis1\": {\"domain\": [0.0, 0.375], \"anchor\": \"y1\", \"title\": \"PC1 (50.1%)\"}, \"yaxis1\": {\"domain\": [0.0, 1.0], \"anchor\": \"x1\", \"title\": \"PC2 (29.3%)\"}, \"xaxis2\": {\"domain\": [0.625, 1.0], \"anchor\": \"y2\", \"title\": \"PC1 (78.7%)\"}, \"yaxis2\": {\"domain\": [0.0, 1.0], \"anchor\": \"x2\", \"title\": \"PC2 (13.8%)\"}, \"legend\": {\"orientation\": \"h\", \"xanchor\": \"center\", \"y\": -0.33}}, {\"showLink\": true, \"linkText\": \"Export to plot.ly\"})});</script>"
      ],
      "text/vnd.plotly.v1+html": [
       "<div id=\"15040ff5-706c-4d35-9471-57d633ec941c\" style=\"height: 525px; width: 100%;\" class=\"plotly-graph-div\"></div><script type=\"text/javascript\">require([\"plotly\"], function(Plotly) { window.PLOTLYENV=window.PLOTLYENV || {};window.PLOTLYENV.BASE_URL=\"https://plot.ly\";Plotly.newPlot(\"15040ff5-706c-4d35-9471-57d633ec941c\", [{\"type\": \"scatter\", \"x\": [-0.13425594, -0.16562385, -0.12594909, 0.0469486, -0.12436915, -0.16110865], \"y\": [0.09627191, -0.093454516, -0.11057026199999999, -0.1212579, -0.106070867, -0.10421690300000001], \"mode\": \"markers\", \"text\": [\"FCW18b\", \"FCF6TC3\", \"FCP16c\", \"FCS17a\", \"FCX16C\", \"FCR15b\"], \"hoverinfo\": \"text\", \"name\": \"Freshwater Enrichments\", \"marker\": {\"size\": 12, \"color\": \"#1f77b4\", \"line\": {\"color\": \"rgba(217, 217, 217, 0.14)\", \"width\": 0.5}, \"opacity\": 0.8}, \"xaxis\": \"x1\", \"yaxis\": \"y1\"}, {\"type\": \"scatter\", \"x\": [-121.62872, -136.16915, -120.50745, -44.40225, -114.7203, -141.79703], \"y\": [-20.813715, -21.41219, -29.505377000000003, -62.377069999999996, -26.217306, -27.362968], \"mode\": \"markers\", \"text\": [\"FCW18b\", \"FCF6TC3\", \"FCP16c\", \"FCS17a\", \"FCX16C\", \"FCR15b\"], \"hoverinfo\": \"text\", \"name\": \"Freshwater Enrichments\", \"marker\": {\"size\": 12, \"color\": \"#1f77b4\", \"line\": {\"color\": \"rgba(217, 217, 217, 0.14)\", \"width\": 0.5}, \"opacity\": 0.8}, \"showlegend\": false, \"xaxis\": \"x2\", \"yaxis\": \"y2\"}, {\"type\": \"scatter\", \"x\": [-0.27803994, -0.17312418, -0.14305299, 0.03539758, -0.13205309], \"y\": [-0.005330185, -0.092429651, -0.10271282300000001, -0.120108367, -0.080436927], \"mode\": \"markers\", \"text\": [\"SCB14c\", \"SCR11c\", \"SCD17c\", \"SCQ17a\", \"SCH14a\"], \"hoverinfo\": \"text\", \"name\": \"Saltwater Enrichments\", \"marker\": {\"size\": 12, \"color\": \"#ff7f0e\", \"line\": {\"color\": \"green\", \"width\": 0.5}, \"opacity\": 0.8}, \"xaxis\": \"x1\", \"yaxis\": \"y1\"}, {\"type\": \"scatter\", \"x\": [-156.10744, -135.90735, -122.94106000000001, -54.1959, -107.52468999999999], \"y\": [-3.255496, -16.102484, -3.2698, -40.947906, -18.660484], \"mode\": \"markers\", \"text\": [\"SCB14c\", \"SCR11c\", \"SCD17c\", \"SCQ17a\", \"SCH14a\"], \"hoverinfo\": \"text\", \"name\": \"Saltwater Enrichments\", \"marker\": {\"size\": 12, \"color\": \"#ff7f0e\", \"line\": {\"color\": \"green\", \"width\": 0.5}, \"opacity\": 0.8}, \"showlegend\": false, \"xaxis\": \"x2\", \"yaxis\": \"y2\"}, {\"type\": \"scatter\", \"x\": [-0.35598446, 0.46040499, 0.24574964, 0.32302959, 0.24349153, 0.30428348], \"y\": [0.614775863, 0.196444967, 0.03325677, 0.052973532000000004, 0.016921285, 0.022215982000000002], \"mode\": \"markers\", \"text\": [\"45591\", \"66722\", \"148651\", \"145604\", \"66718\", \"55268\"], \"hoverinfo\": \"text\", \"name\": \"Environmental Samples\", \"marker\": {\"size\": 12, \"color\": \"#2ca02c\", \"line\": {\"color\": \"rgba(217, 217, 217, 0.14)\", \"width\": 0.5}, \"opacity\": 0.8}, \"xaxis\": \"x1\", \"yaxis\": \"y1\"}, {\"type\": \"scatter\", \"x\": [-215.60984, 636.87195, 147.87535, 328.4465, 121.92437, 236.393], \"y\": [23.306998, -203.544378, 162.238619, 246.69955099999999, 53.21395, -11.989942999999998], \"mode\": \"markers\", \"text\": [\"45591\", \"66722\", \"148651\", \"145604\", \"66718\", \"55268\"], \"hoverinfo\": \"text\", \"name\": \"Environmental Samples\", \"marker\": {\"size\": 12, \"color\": \"#2ca02c\", \"line\": {\"color\": \"rgba(217, 217, 217, 0.14)\", \"width\": 0.5}, \"opacity\": 0.8}, \"showlegend\": false, \"xaxis\": \"x2\", \"yaxis\": \"y2\"}], {\"xaxis1\": {\"domain\": [0.0, 0.375], \"anchor\": \"y1\", \"title\": \"PC1 (50.1%)\"}, \"yaxis1\": {\"domain\": [0.0, 1.0], \"anchor\": \"x1\", \"title\": \"PC2 (29.3%)\"}, \"xaxis2\": {\"domain\": [0.625, 1.0], \"anchor\": \"y2\", \"title\": \"PC1 (78.7%)\"}, \"yaxis2\": {\"domain\": [0.0, 1.0], \"anchor\": \"x2\", \"title\": \"PC2 (13.8%)\"}, \"legend\": {\"orientation\": \"h\", \"xanchor\": \"center\", \"y\": -0.33}}, {\"showLink\": true, \"linkText\": \"Export to plot.ly\"})});</script>"
      ]
     },
     "metadata": {},
     "output_type": "display_data"
    }
   ],
   "source": [
    "#import cufflinks as cf\n",
    "import plotly.tools as tls\n",
    "\n",
    "# fig = tls.make_subplots(rows=1, cols=2, subplot_titles=('Bray-Curtis PCoA of GH Data', 'Euclidean PCoA of GH Data') , horizontal_spacing=0.25)\n",
    "fig = tls.make_subplots(rows=1, cols=2, horizontal_spacing=0.25)\n",
    "\n",
    "\n",
    "for i in range(0, 3):\n",
    "    if i == 0:\n",
    "        trace_B = go.Scatter(\n",
    "        x=D[:6,0],\n",
    "        y=D[:6,1],\n",
    "        mode='markers',\n",
    "        text=['FCW18b', 'FCF6TC3', 'FCP16c', 'FCS17a', 'FCX16C', 'FCR15b'],\n",
    "    #     textposition='bottom',\n",
    "        hoverinfo = 'text',\n",
    "        name='Freshwater Enrichments',\n",
    "        marker=Marker(\n",
    "                size=12,\n",
    "                color='#1f77b4',    \n",
    "                line=Line(\n",
    "                    color='rgba(217, 217, 217, 0.14)',\n",
    "                    width=0.5),\n",
    "                opacity=0.8))\n",
    "        \n",
    "        fig.append_trace(trace_B, 1, 1)\n",
    "        \n",
    "        trace_E = go.Scatter(\n",
    "        x=D2[:6,0],\n",
    "        y=D2[:6,1],\n",
    "        mode='markers',\n",
    "        text=['FCW18b', 'FCF6TC3', 'FCP16c', 'FCS17a', 'FCX16C', 'FCR15b'],\n",
    "    #     textposition='bottom',\n",
    "        hoverinfo = 'text',\n",
    "        name='Freshwater Enrichments',\n",
    "        marker=Marker(\n",
    "                size=12,\n",
    "                color='#1f77b4',\n",
    "                line=Line(\n",
    "                    color='rgba(217, 217, 217, 0.14)',\n",
    "                    width=0.5),\n",
    "                opacity=0.8))\n",
    "        \n",
    "        trace_E['showlegend'] = False\n",
    "        \n",
    "        fig.append_trace(trace_E, 1, 2)\n",
    "        \n",
    "    elif i == 1:\n",
    "        \n",
    "        trace_B = go.Scatter(\n",
    "        x=D[6:11,0],\n",
    "        y=D[6:11,1],\n",
    "        mode='markers',\n",
    "        text=['SCB14c', 'SCR11c', 'SCD17c', 'SCQ17a', 'SCH14a'],\n",
    "    #     textposition='bottom',\n",
    "        hoverinfo = 'text',\n",
    "        name='Saltwater Enrichments',\n",
    "        marker=Marker(\n",
    "                size=12,\n",
    "                color='#ff7f0e',\n",
    "                line=Line(\n",
    "                    color='green',\n",
    "                    width=0.5),\n",
    "                opacity=0.8))\n",
    "        \n",
    "        fig.append_trace(trace_B, 1, 1)\n",
    "        \n",
    "        trace_E = go.Scatter(\n",
    "        x=D2[6:11,0],\n",
    "        y=D2[6:11,1],\n",
    "        mode='markers',\n",
    "        text=['SCB14c', 'SCR11c', 'SCD17c', 'SCQ17a', 'SCH14a'],\n",
    "    #     textposition='bottom',\n",
    "        hoverinfo = 'text',\n",
    "        name='Saltwater Enrichments',\n",
    "        marker=Marker(\n",
    "                size=12,\n",
    "                color='#ff7f0e',\n",
    "                line=Line(\n",
    "                    color='green',\n",
    "                    width=0.5),\n",
    "                opacity=0.8))\n",
    "        \n",
    "        trace_E['showlegend'] = False\n",
    "        \n",
    "        fig.append_trace(trace_E, 1, 2)\n",
    "        \n",
    "    elif i == 2:\n",
    "        trace_B = go.Scatter(\n",
    "        x=D[11:,0],\n",
    "        y=D[11:,1],\n",
    "        mode='markers',\n",
    "        text = ['45591', '66722', '148651', '145604', '66718', '55268'],\n",
    "    #     textposition='bottom',\n",
    "        hoverinfo = 'text',\n",
    "        name='Environmental Samples',\n",
    "        marker=Marker(\n",
    "                size=12,\n",
    "                color='#2ca02c',\n",
    "                line=Line(\n",
    "                    color='rgba(217, 217, 217, 0.14)',\n",
    "                    width=0.5),\n",
    "                opacity=0.8))\n",
    "        \n",
    "        fig.append_trace(trace_B, 1, 1)\n",
    "        \n",
    "        trace_E = go.Scatter(\n",
    "        x=D2[11:,0],\n",
    "        y=D2[11:,1],\n",
    "        mode='markers',\n",
    "        text = ['45591', '66722', '148651', '145604', '66718', '55268'],\n",
    "    #     textposition='bottom',\n",
    "        hoverinfo = 'text',\n",
    "        name='Environmental Samples',\n",
    "        marker=Marker(\n",
    "                size=12,\n",
    "                color='#2ca02c',\n",
    "                line=Line(\n",
    "                    color='rgba(217, 217, 217, 0.14)',\n",
    "                    width=0.5),\n",
    "                opacity=0.8))\n",
    "        \n",
    "        trace_E['showlegend'] = False\n",
    "        \n",
    "        fig.append_trace(trace_E, 1, 2)\n",
    "        \n",
    "        \n",
    "fig['layout']['xaxis1'].update(title='PC1 (50.1%)')\n",
    "fig['layout']['xaxis2'].update(title='PC1 (78.7%)')\n",
    "fig['layout']['yaxis1'].update(title='PC2 (29.3%)')\n",
    "fig['layout']['yaxis2'].update(title='PC2 (13.8%)')\n",
    "fig['layout']['legend'].update(orientation=\"h\")\n",
    "fig['layout']['legend'].update(xanchor = \"center\")\n",
    "# fig['layout']['legend'].update(x = 0.45)\n",
    "fig['layout']['legend'].update(y = -0.33)\n",
    "      \n",
    "iplot(fig)\n",
    "\n",
    "#save fig with custom size: 500 X 800"
   ]
  },
  {
   "cell_type": "code",
   "execution_count": 5,
   "metadata": {},
   "outputs": [
    {
     "data": {
      "text/html": [
       "<iframe id=\"igraph\" scrolling=\"no\" style=\"border:none;\" seamless=\"seamless\" src=\"https://plot.ly/~softdesinfinity2/85.embed\" height=\"525px\" width=\"100%\"></iframe>"
      ],
      "text/plain": [
       "<plotly.tools.PlotlyDisplay object>"
      ]
     },
     "execution_count": 5,
     "metadata": {},
     "output_type": "execute_result"
    }
   ],
   "source": [
    "#Plot the two dominant principal components from PCA on a 2d axis\n",
    "traces = []\n",
    "\n",
    "trace1 = go.Scatter(\n",
    "    x=D[:6,0],\n",
    "    y=D[:6,1],\n",
    "    mode='markers',\n",
    "    text=['FCW18b', 'FCF6TC3', 'FCP16c', 'FCS17a', 'FCX16C', 'FCR15b'],\n",
    "#     textposition='bottom',\n",
    "    hoverinfo = 'text',\n",
    "    name='Freshwater Cultures',\n",
    "    marker=Marker(\n",
    "            size=12,\n",
    "            line=Line(\n",
    "                color='rgba(217, 217, 217, 0.14)',\n",
    "                width=0.5),\n",
    "            opacity=0.8))\n",
    "\n",
    "traces.append(trace1)\n",
    "\n",
    "trace2 = go.Scatter(\n",
    "    x=D[6:11,0],\n",
    "    y=D[6:11,1],\n",
    "    mode='markers',\n",
    "    text=['SCB14c', 'SCR11c', 'SCD17c', 'SCQ17a', 'SCH14a'],\n",
    "#     textposition='bottom',\n",
    "    hoverinfo = 'text',\n",
    "    name='Marine Cultures',\n",
    "    marker=Marker(\n",
    "            size=12,\n",
    "            line=Line(\n",
    "                color='green',\n",
    "                width=0.5),\n",
    "            opacity=0.8))\n",
    "\n",
    "traces.append(trace2)\n",
    "\n",
    "trace3 = go.Scatter(\n",
    "    x=D[11:,0],\n",
    "    y=D[11:,1],\n",
    "    mode='markers',\n",
    "    text = ['45591', '66722', '148651', '145604', '66718', '55268'],\n",
    "#     textposition='bottom',\n",
    "    hoverinfo = 'text',\n",
    "    name='Environmental Samples',\n",
    "    marker=Marker(\n",
    "            size=12,\n",
    "            line=Line(\n",
    "                color='rgba(217, 217, 217, 0.14)',\n",
    "                width=0.5),\n",
    "            opacity=0.8))\n",
    "\n",
    "traces.append(trace3)\n",
    "\n",
    "data = Data(traces)\n",
    "\n",
    "layout = Layout(showlegend=True,\n",
    "                xaxis=dict(title='PC1',),\n",
    "                yaxis=dict(title='PC2',),\n",
    "                title='Bray-Curtis PCoA of GH Data',\n",
    "                font=dict(size=16),\n",
    "#                 margin=dict(t=50, b=50, l=60, autoexpand=False)\n",
    "               )\n",
    "\n",
    "fig = go.Figure(data=data, layout=layout)\n",
    "py.iplot(fig, filename='2d_PCoA')"
   ]
  },
  {
   "cell_type": "code",
   "execution_count": 8,
   "metadata": {},
   "outputs": [
    {
     "ename": "NameError",
     "evalue": "name 'D3' is not defined",
     "output_type": "error",
     "traceback": [
      "\u001b[1;31m---------------------------------------------------------------------------\u001b[0m",
      "\u001b[1;31mNameError\u001b[0m                                 Traceback (most recent call last)",
      "\u001b[1;32m<ipython-input-8-2236be3a6f6b>\u001b[0m in \u001b[0;36m<module>\u001b[1;34m()\u001b[0m\n\u001b[0;32m      3\u001b[0m \u001b[1;33m\u001b[0m\u001b[0m\n\u001b[0;32m      4\u001b[0m trace1 = go.Scatter3d(\n\u001b[1;32m----> 5\u001b[1;33m     \u001b[0mx\u001b[0m\u001b[1;33m=\u001b[0m\u001b[0mD3\u001b[0m\u001b[1;33m[\u001b[0m\u001b[1;33m:\u001b[0m\u001b[1;36m6\u001b[0m\u001b[1;33m,\u001b[0m\u001b[1;36m0\u001b[0m\u001b[1;33m]\u001b[0m\u001b[1;33m,\u001b[0m\u001b[1;33m\u001b[0m\u001b[0m\n\u001b[0m\u001b[0;32m      6\u001b[0m     \u001b[0my\u001b[0m\u001b[1;33m=\u001b[0m\u001b[0mD3\u001b[0m\u001b[1;33m[\u001b[0m\u001b[1;33m:\u001b[0m\u001b[1;36m6\u001b[0m\u001b[1;33m,\u001b[0m\u001b[1;36m1\u001b[0m\u001b[1;33m]\u001b[0m\u001b[1;33m,\u001b[0m\u001b[1;33m\u001b[0m\u001b[0m\n\u001b[0;32m      7\u001b[0m     \u001b[0mz\u001b[0m\u001b[1;33m=\u001b[0m\u001b[0mD3\u001b[0m\u001b[1;33m[\u001b[0m\u001b[1;33m:\u001b[0m\u001b[1;36m6\u001b[0m\u001b[1;33m,\u001b[0m\u001b[1;36m2\u001b[0m\u001b[1;33m]\u001b[0m\u001b[1;33m,\u001b[0m\u001b[1;33m\u001b[0m\u001b[0m\n",
      "\u001b[1;31mNameError\u001b[0m: name 'D3' is not defined"
     ]
    }
   ],
   "source": [
    "#Plot the three dominant principal components from PCA on a 3d axis\n",
    "traces = []\n",
    "\n",
    "trace1 = go.Scatter3d(\n",
    "    x=D3[:6,0],\n",
    "    y=D3[:6,1],\n",
    "    z=D3[:6,2],\n",
    "    mode='markers',\n",
    "    text=['FCW18b', 'FCF6TC3', 'FCP16c', 'FCS17a', 'FCX16C', 'FCR15b'],\n",
    "#     textposition='bottom',\n",
    "    hoverinfo = 'text',\n",
    "    name='Freshwater Samples',\n",
    "    marker=Marker(\n",
    "            size=12,\n",
    "            line=Line(\n",
    "                color='rgba(217, 217, 217, 0.14)',\n",
    "                width=0.5),\n",
    "            opacity=0.8))\n",
    "\n",
    "traces.append(trace1)\n",
    "\n",
    "trace2 = go.Scatter3d(\n",
    "    x=D3[6:11,0],\n",
    "    y=D3[6:11,1],\n",
    "    z=D3[6:11,2],\n",
    "    mode='markers',\n",
    "    text=['SCB14c', 'SCR11c', 'SCD17c', 'SCQ17a', 'SCH14a'],\n",
    "#     textposition='bottom',\n",
    "    hoverinfo = 'text',\n",
    "    name=' Marine Samples',\n",
    "    marker=Marker(\n",
    "            size=12,\n",
    "            line=Line(\n",
    "                color='green',\n",
    "                width=0.5),\n",
    "            opacity=0.8))\n",
    "\n",
    "traces.append(trace2)\n",
    "\n",
    "trace3 = go.Scatter3d(\n",
    "    x=D3[11:,0],\n",
    "    y=D3[11:,1],\n",
    "    z=D3[11:,2],\n",
    "    mode='markers',\n",
    "    text = ['45591', '66722', '148651', '145604', '66718', '55268'],\n",
    "#     textposition='bottom',\n",
    "    hoverinfo = 'text',\n",
    "    name='Environmental References',\n",
    "    marker=Marker(\n",
    "            size=12,\n",
    "            line=Line(\n",
    "                color='rgba(217, 217, 217, 0.14)',\n",
    "                width=0.5),\n",
    "            opacity=0.8))\n",
    "\n",
    "traces.append(trace3)\n",
    "\n",
    "data = Data(traces)\n",
    "\n",
    "layout = Layout(showlegend=True,\n",
    "                scene=Scene(xaxis=XAxis(title='PC1'),\n",
    "                yaxis=YAxis(title='PC2'),zaxis=ZAxis(title='PC3')),\n",
    "                title='3D PCoA of GH Data',\n",
    "                margin=dict(t=50, b=50, r=0, l=0, autoexpand=False)\n",
    "               )\n",
    "\n",
    "fig = go.Figure(data=data, layout=layout)\n",
    "py.iplot(fig, filename='3d_PCoA_GH')"
   ]
  },
  {
   "cell_type": "code",
   "execution_count": null,
   "metadata": {
    "collapsed": true
   },
   "outputs": [],
   "source": []
  }
 ],
 "metadata": {
  "kernelspec": {
   "display_name": "Python 3",
   "language": "python",
   "name": "python3"
  },
  "language_info": {
   "codemirror_mode": {
    "name": "ipython",
    "version": 3
   },
   "file_extension": ".py",
   "mimetype": "text/x-python",
   "name": "python",
   "nbconvert_exporter": "python",
   "pygments_lexer": "ipython3",
   "version": "3.6.1"
  }
 },
 "nbformat": 4,
 "nbformat_minor": 2
}
