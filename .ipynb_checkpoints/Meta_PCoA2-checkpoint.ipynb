{
 "cells": [
  {
   "cell_type": "code",
   "execution_count": 1,
   "metadata": {
    "collapsed": true
   },
   "outputs": [],
   "source": [
    "# import needed libraries\n",
    "import pandas as pd\n",
    "import numpy as np\n",
    "import plotly.plotly as py\n",
    "from plotly.graph_objs import *\n",
    "import plotly.tools as tls\n",
    "import plotly.graph_objs as go\n",
    "tls.set_credentials_file(username='softdesinfinity2', api_key='rVvqvP7LcJ9vC1WAixOv')\n",
    "# tls.set_credentials_file(username='enter info', api_key='enter info')"
   ]
  },
  {
   "cell_type": "code",
   "execution_count": 2,
   "metadata": {},
   "outputs": [
    {
     "name": "stdout",
     "output_type": "stream",
     "text": [
      "2.6.0\n"
     ]
    },
    {
     "data": {
      "text/html": [
       "<script>requirejs.config({paths: { 'plotly': ['https://cdn.plot.ly/plotly-latest.min']},});if(!window.Plotly) {{require(['plotly'],function(plotly) {window.Plotly=plotly;});}}</script>"
      ],
      "text/vnd.plotly.v1+html": [
       "<script>requirejs.config({paths: { 'plotly': ['https://cdn.plot.ly/plotly-latest.min']},});if(!window.Plotly) {{require(['plotly'],function(plotly) {window.Plotly=plotly;});}}</script>"
      ]
     },
     "metadata": {},
     "output_type": "display_data"
    }
   ],
   "source": [
    "from plotly import __version__\n",
    "from plotly.offline import download_plotlyjs, init_notebook_mode, plot, iplot\n",
    "\n",
    "print(__version__)\n",
    "init_notebook_mode(connected=True)"
   ]
  },
  {
   "cell_type": "code",
   "execution_count": 3,
   "metadata": {},
   "outputs": [
    {
     "data": {
      "text/html": [
       "<div>\n",
       "<style>\n",
       "    .dataframe thead tr:only-child th {\n",
       "        text-align: right;\n",
       "    }\n",
       "\n",
       "    .dataframe thead th {\n",
       "        text-align: left;\n",
       "    }\n",
       "\n",
       "    .dataframe tbody tr th {\n",
       "        vertical-align: top;\n",
       "    }\n",
       "</style>\n",
       "<table border=\"1\" class=\"dataframe\">\n",
       "  <thead>\n",
       "    <tr style=\"text-align: right;\">\n",
       "      <th></th>\n",
       "      <th>0</th>\n",
       "      <th>1</th>\n",
       "    </tr>\n",
       "  </thead>\n",
       "  <tbody>\n",
       "    <tr>\n",
       "      <th>0</th>\n",
       "      <td>-0.134256</td>\n",
       "      <td>0.096272</td>\n",
       "    </tr>\n",
       "    <tr>\n",
       "      <th>1</th>\n",
       "      <td>-0.165624</td>\n",
       "      <td>-0.093455</td>\n",
       "    </tr>\n",
       "    <tr>\n",
       "      <th>2</th>\n",
       "      <td>-0.125949</td>\n",
       "      <td>-0.110570</td>\n",
       "    </tr>\n",
       "    <tr>\n",
       "      <th>3</th>\n",
       "      <td>0.046949</td>\n",
       "      <td>-0.121258</td>\n",
       "    </tr>\n",
       "    <tr>\n",
       "      <th>4</th>\n",
       "      <td>-0.124369</td>\n",
       "      <td>-0.106071</td>\n",
       "    </tr>\n",
       "    <tr>\n",
       "      <th>5</th>\n",
       "      <td>-0.161109</td>\n",
       "      <td>-0.104217</td>\n",
       "    </tr>\n",
       "    <tr>\n",
       "      <th>6</th>\n",
       "      <td>-0.278040</td>\n",
       "      <td>-0.005330</td>\n",
       "    </tr>\n",
       "    <tr>\n",
       "      <th>7</th>\n",
       "      <td>-0.173124</td>\n",
       "      <td>-0.092430</td>\n",
       "    </tr>\n",
       "    <tr>\n",
       "      <th>8</th>\n",
       "      <td>-0.143053</td>\n",
       "      <td>-0.102713</td>\n",
       "    </tr>\n",
       "    <tr>\n",
       "      <th>9</th>\n",
       "      <td>0.035398</td>\n",
       "      <td>-0.120108</td>\n",
       "    </tr>\n",
       "    <tr>\n",
       "      <th>10</th>\n",
       "      <td>-0.132053</td>\n",
       "      <td>-0.080437</td>\n",
       "    </tr>\n",
       "    <tr>\n",
       "      <th>11</th>\n",
       "      <td>-0.355984</td>\n",
       "      <td>0.614776</td>\n",
       "    </tr>\n",
       "    <tr>\n",
       "      <th>12</th>\n",
       "      <td>0.460405</td>\n",
       "      <td>0.196445</td>\n",
       "    </tr>\n",
       "    <tr>\n",
       "      <th>13</th>\n",
       "      <td>0.245750</td>\n",
       "      <td>0.033257</td>\n",
       "    </tr>\n",
       "    <tr>\n",
       "      <th>14</th>\n",
       "      <td>0.323030</td>\n",
       "      <td>0.052974</td>\n",
       "    </tr>\n",
       "    <tr>\n",
       "      <th>15</th>\n",
       "      <td>0.243492</td>\n",
       "      <td>0.016921</td>\n",
       "    </tr>\n",
       "    <tr>\n",
       "      <th>16</th>\n",
       "      <td>0.304283</td>\n",
       "      <td>0.022216</td>\n",
       "    </tr>\n",
       "  </tbody>\n",
       "</table>\n",
       "</div>"
      ],
      "text/plain": [
       "           0         1\n",
       "0  -0.134256  0.096272\n",
       "1  -0.165624 -0.093455\n",
       "2  -0.125949 -0.110570\n",
       "3   0.046949 -0.121258\n",
       "4  -0.124369 -0.106071\n",
       "5  -0.161109 -0.104217\n",
       "6  -0.278040 -0.005330\n",
       "7  -0.173124 -0.092430\n",
       "8  -0.143053 -0.102713\n",
       "9   0.035398 -0.120108\n",
       "10 -0.132053 -0.080437\n",
       "11 -0.355984  0.614776\n",
       "12  0.460405  0.196445\n",
       "13  0.245750  0.033257\n",
       "14  0.323030  0.052974\n",
       "15  0.243492  0.016921\n",
       "16  0.304283  0.022216"
      ]
     },
     "execution_count": 3,
     "metadata": {},
     "output_type": "execute_result"
    }
   ],
   "source": [
    "#Create a DataFrame containing the data you wish to analyze.\n",
    "#In this case it is the GH metagenomics data\n",
    "df = pd.read_csv(\n",
    "    filepath_or_buffer='LivBrayPCoA.csv', \n",
    "    header=None, \n",
    "    sep=',')\n",
    "df"
   ]
  },
  {
   "cell_type": "code",
   "execution_count": 4,
   "metadata": {},
   "outputs": [
    {
     "name": "stdout",
     "output_type": "stream",
     "text": [
      "[[-0.13425594  0.09627191]\n",
      " [-0.16562385 -0.09345452]\n",
      " [-0.12594909 -0.11057026]\n",
      " [ 0.0469486  -0.1212579 ]\n",
      " [-0.12436915 -0.10607087]\n",
      " [-0.16110865 -0.1042169 ]\n",
      " [-0.27803994 -0.00533019]\n",
      " [-0.17312418 -0.09242965]\n",
      " [-0.14305299 -0.10271282]\n",
      " [ 0.03539758 -0.12010837]\n",
      " [-0.13205309 -0.08043693]\n",
      " [-0.35598446  0.61477586]\n",
      " [ 0.46040499  0.19644497]\n",
      " [ 0.24574964  0.03325677]\n",
      " [ 0.32302959  0.05297353]\n",
      " [ 0.24349153  0.01692129]\n",
      " [ 0.30428348  0.02221598]]\n"
     ]
    },
    {
     "name": "stderr",
     "output_type": "stream",
     "text": [
      "C:\\ProgramData\\Miniconda3\\lib\\site-packages\\ipykernel_launcher.py:2: DeprecationWarning:\n",
      "\n",
      "\n",
      ".ix is deprecated. Please use\n",
      ".loc for label based indexing or\n",
      ".iloc for positional indexing\n",
      "\n",
      "See the documentation here:\n",
      "http://pandas.pydata.org/pandas-docs/stable/indexing.html#ix-indexer-is-deprecated\n",
      "\n"
     ]
    }
   ],
   "source": [
    "#Show another way to get a Numpy representation of a Dataframe\n",
    "D = df.ix[:,0:].values\n",
    "print(D)"
   ]
  },
  {
   "cell_type": "code",
   "execution_count": 10,
   "metadata": {},
   "outputs": [
    {
     "data": {
      "text/html": [
       "<iframe id=\"igraph\" scrolling=\"no\" style=\"border:none;\" seamless=\"seamless\" src=\"https://plot.ly/~softdesinfinity2/85.embed\" height=\"525px\" width=\"100%\"></iframe>"
      ],
      "text/plain": [
       "<plotly.tools.PlotlyDisplay object>"
      ]
     },
     "execution_count": 10,
     "metadata": {},
     "output_type": "execute_result"
    }
   ],
   "source": [
    "#Plot the two dominant principal components from PCA on a 2d axis\n",
    "traces = []\n",
    "\n",
    "trace1 = go.Scatter(\n",
    "    x=D[:6,0],\n",
    "    y=D[:6,1],\n",
    "    mode='markers',\n",
    "    text=['FCW18b', 'FCF6TC3', 'FCP16c', 'FCS17a', 'FCX16C', 'FCR15b'],\n",
    "#     textposition='bottom',\n",
    "    hoverinfo = 'text',\n",
    "    name='Freshwater Cultures',\n",
    "    marker=Marker(\n",
    "            size=12,\n",
    "            line=Line(\n",
    "                color='rgba(217, 217, 217, 0.14)',\n",
    "                width=0.5),\n",
    "            opacity=0.8))\n",
    "\n",
    "traces.append(trace1)\n",
    "\n",
    "trace2 = go.Scatter(\n",
    "    x=D[6:11,0],\n",
    "    y=D[6:11,1],\n",
    "    mode='markers',\n",
    "    text=['SCB14c', 'SCR11c', 'SCD17c', 'SCQ17a', 'SCH14a'],\n",
    "#     textposition='bottom',\n",
    "    hoverinfo = 'text',\n",
    "    name='Marine Cultures',\n",
    "    marker=Marker(\n",
    "            size=12,\n",
    "            line=Line(\n",
    "                color='green',\n",
    "                width=0.5),\n",
    "            opacity=0.8))\n",
    "\n",
    "traces.append(trace2)\n",
    "\n",
    "trace3 = go.Scatter(\n",
    "    x=D[11:,0],\n",
    "    y=D[11:,1],\n",
    "    mode='markers',\n",
    "    text = ['45591', '66722', '148651', '145604', '66718', '55268'],\n",
    "#     textposition='bottom',\n",
    "    hoverinfo = 'text',\n",
    "    name='Environmental Samples',\n",
    "    marker=Marker(\n",
    "            size=12,\n",
    "            line=Line(\n",
    "                color='rgba(217, 217, 217, 0.14)',\n",
    "                width=0.5),\n",
    "            opacity=0.8))\n",
    "\n",
    "traces.append(trace3)\n",
    "\n",
    "data = Data(traces)\n",
    "\n",
    "layout = Layout(showlegend=True,\n",
    "                xaxis=dict(title='PC1',),\n",
    "                yaxis=dict(title='PC2',),\n",
    "                title='Bray-Curtis PCoA of GH Data',\n",
    "                font=dict(size=16),\n",
    "#                 margin=dict(t=50, b=50, l=60, autoexpand=False)\n",
    "               )\n",
    "\n",
    "fig = go.Figure(data=data, layout=layout)\n",
    "py.iplot(fig, filename='2d_PCoA')"
   ]
  },
  {
   "cell_type": "code",
   "execution_count": 23,
   "metadata": {},
   "outputs": [
    {
     "data": {
      "text/html": [
       "<iframe id=\"igraph\" scrolling=\"no\" style=\"border:none;\" seamless=\"seamless\" src=\"https://plot.ly/~softdesinfinity2/87.embed\" height=\"525px\" width=\"100%\"></iframe>"
      ],
      "text/plain": [
       "<plotly.tools.PlotlyDisplay object>"
      ]
     },
     "execution_count": 23,
     "metadata": {},
     "output_type": "execute_result"
    }
   ],
   "source": [
    "#Plot the three dominant principal components from PCA on a 3d axis\n",
    "traces = []\n",
    "\n",
    "trace1 = go.Scatter3d(\n",
    "    x=D3[:6,0],\n",
    "    y=D3[:6,1],\n",
    "    z=D3[:6,2],\n",
    "    mode='markers',\n",
    "    text=['FCW18b', 'FCF6TC3', 'FCP16c', 'FCS17a', 'FCX16C', 'FCR15b'],\n",
    "#     textposition='bottom',\n",
    "    hoverinfo = 'text',\n",
    "    name='Freshwater Samples',\n",
    "    marker=Marker(\n",
    "            size=12,\n",
    "            line=Line(\n",
    "                color='rgba(217, 217, 217, 0.14)',\n",
    "                width=0.5),\n",
    "            opacity=0.8))\n",
    "\n",
    "traces.append(trace1)\n",
    "\n",
    "trace2 = go.Scatter3d(\n",
    "    x=D3[6:11,0],\n",
    "    y=D3[6:11,1],\n",
    "    z=D3[6:11,2],\n",
    "    mode='markers',\n",
    "    text=['SCB14c', 'SCR11c', 'SCD17c', 'SCQ17a', 'SCH14a'],\n",
    "#     textposition='bottom',\n",
    "    hoverinfo = 'text',\n",
    "    name=' Marine Samples',\n",
    "    marker=Marker(\n",
    "            size=12,\n",
    "            line=Line(\n",
    "                color='green',\n",
    "                width=0.5),\n",
    "            opacity=0.8))\n",
    "\n",
    "traces.append(trace2)\n",
    "\n",
    "trace3 = go.Scatter3d(\n",
    "    x=D3[11:,0],\n",
    "    y=D3[11:,1],\n",
    "    z=D3[11:,2],\n",
    "    mode='markers',\n",
    "    text = ['45591', '66722', '148651', '145604', '66718', '55268'],\n",
    "#     textposition='bottom',\n",
    "    hoverinfo = 'text',\n",
    "    name='Environmental References',\n",
    "    marker=Marker(\n",
    "            size=12,\n",
    "            line=Line(\n",
    "                color='rgba(217, 217, 217, 0.14)',\n",
    "                width=0.5),\n",
    "            opacity=0.8))\n",
    "\n",
    "traces.append(trace3)\n",
    "\n",
    "data = Data(traces)\n",
    "\n",
    "layout = Layout(showlegend=True,\n",
    "                scene=Scene(xaxis=XAxis(title='PC1'),\n",
    "                yaxis=YAxis(title='PC2'),zaxis=ZAxis(title='PC3')),\n",
    "                title='3D PCoA of GH Data',\n",
    "                margin=dict(t=50, b=50, r=0, l=0, autoexpand=False)\n",
    "               )\n",
    "\n",
    "fig = go.Figure(data=data, layout=layout)\n",
    "py.iplot(fig, filename='3d_PCoA_GH')"
   ]
  },
  {
   "cell_type": "code",
   "execution_count": null,
   "metadata": {
    "collapsed": true
   },
   "outputs": [],
   "source": []
  }
 ],
 "metadata": {
  "kernelspec": {
   "display_name": "Python 3",
   "language": "python",
   "name": "python3"
  },
  "language_info": {
   "codemirror_mode": {
    "name": "ipython",
    "version": 3
   },
   "file_extension": ".py",
   "mimetype": "text/x-python",
   "name": "python",
   "nbconvert_exporter": "python",
   "pygments_lexer": "ipython3",
   "version": "3.6.1"
  }
 },
 "nbformat": 4,
 "nbformat_minor": 2
}
