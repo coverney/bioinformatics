{
 "cells": [
  {
   "cell_type": "code",
   "execution_count": 1,
   "metadata": {},
   "outputs": [],
   "source": [
    "# import a necessary library\n",
    "import csv"
   ]
  },
  {
   "cell_type": "code",
   "execution_count": 2,
   "metadata": {},
   "outputs": [],
   "source": [
    "# read in the first csv file and store the values in three arrays representing name, aa sequence and dna sequence\n",
    "# edit the sequences to remove digits and newlines and change to uppercase\n",
    "with open('../bioinformatics/NifH.csv') as csvfile:\n",
    "    nifh = csv.DictReader(csvfile)\n",
    "    h_names = []\n",
    "    h_aa = []\n",
    "    h_dna = []\n",
    "    for row in nifh:\n",
    "        h_names.append(row['Bacteria, NifH'])\n",
    "        h_aa.append(''.join(filter(lambda x: not x.isdigit(), row['Amino Acid'].replace('\\n',''))).upper())\n",
    "        h_dna.append(''.join(filter(lambda x: not x.isdigit(), row['DNA '].replace('\\n',''))).upper())\n",
    "        \n",
    "# print(h_names)\n",
    "# print(h_aa)\n",
    "# print(h_dna)\n",
    "# print(h_aa[0])"
   ]
  },
  {
   "cell_type": "code",
   "execution_count": 3,
   "metadata": {},
   "outputs": [],
   "source": [
    "# store the values into two strings one with the aa sequences and one with the dna sequences\n",
    "h_aa_output = ''\n",
    "h_dna_output = ''\n",
    "for ind, name in enumerate(h_names):\n",
    "    if h_aa[ind] is not '':\n",
    "        h_aa_output += '>' + name + ' NifH\\n' + h_aa[ind] + '\\n'\n",
    "        h_dna_output += '>' + name + ' NifH\\n' + h_dna[ind] + '\\n'"
   ]
  },
  {
   "cell_type": "code",
   "execution_count": 4,
   "metadata": {},
   "outputs": [],
   "source": [
    "# write in the two strings into two text files\n",
    "open('../bioinformatics/NifH_aa.txt', 'w').close()\n",
    "with open('../bioinformatics/NifH_aa.txt', 'a') as h:\n",
    "    h.write(h_aa_output)\n",
    "    \n",
    "open('../bioinformatics/NifH_dna.txt', 'w').close()\n",
    "with open('../bioinformatics/NifH_dna.txt', 'a') as h:\n",
    "    h.write(h_dna_output)"
   ]
  },
  {
   "cell_type": "code",
   "execution_count": 5,
   "metadata": {},
   "outputs": [],
   "source": [
    "# read in the second csv file and store the values in three arrays representing name, aa sequence and dna sequence\n",
    "# edit the sequences to remove digits and newlines and change to uppercase\n",
    "with open('../bioinformatics/NifD.csv') as csvfile:\n",
    "    nifd = csv.DictReader(csvfile)\n",
    "    d_names = []\n",
    "    d_aa = []\n",
    "    d_dna = []\n",
    "    for row in nifd:\n",
    "        d_names.append(row['Bacteria, NifD'])\n",
    "        d_aa.append(''.join(filter(lambda x: not x.isdigit(), row['Amino Acid'].replace('\\n',''))).upper())\n",
    "        d_dna.append(''.join(filter(lambda x: not x.isdigit(), row['DNA '].replace('\\n',''))).upper())\n",
    "        \n",
    "# print(d_names)\n",
    "# print(d_aa)\n",
    "# print(d_dna)"
   ]
  },
  {
   "cell_type": "code",
   "execution_count": 6,
   "metadata": {},
   "outputs": [],
   "source": [
    "# store the values into two strings one with the aa sequences and one with the dna sequences\n",
    "d_aa_output = ''\n",
    "d_dna_output = ''\n",
    "for ind, name in enumerate(d_names):\n",
    "    if d_aa[ind] is not '':\n",
    "        d_aa_output += '>' + name + ' NifD\\n' + d_aa[ind] + '\\n'\n",
    "        d_dna_output += '>' + name + ' NifD\\n' + d_dna[ind] + '\\n'"
   ]
  },
  {
   "cell_type": "code",
   "execution_count": 7,
   "metadata": {},
   "outputs": [],
   "source": [
    "# write in the two strings into two text files\n",
    "open('../bioinformatics/NifD_aa.txt', 'w').close()\n",
    "with open('../bioinformatics/NifD_aa.txt', 'a') as d:\n",
    "    d.write(d_aa_output)\n",
    "    \n",
    "open('../bioinformatics/NifD_dna.txt', 'w').close()\n",
    "with open('../bioinformatics/NifD_dna.txt', 'a') as d:\n",
    "    d.write(d_dna_output)"
   ]
  },
  {
   "cell_type": "code",
   "execution_count": 8,
   "metadata": {},
   "outputs": [],
   "source": [
    "# read in the third csv file and store the values in three arrays representing name, aa sequence and dna sequence\n",
    "# edit the sequences to remove digits and newlines and change to uppercase\n",
    "with open('../bioinformatics/NifK.csv') as csvfile:\n",
    "    nifk = csv.DictReader(csvfile)\n",
    "    k_names = []\n",
    "    k_aa = []\n",
    "    k_dna = []\n",
    "    for row in nifk:\n",
    "        k_names.append(row['Bacteria, NifK'])\n",
    "        k_aa.append(''.join(filter(lambda x: not x.isdigit(), row['Amino Acid'].replace('\\n',''))).upper())\n",
    "        k_dna.append(''.join(filter(lambda x: not x.isdigit(), row['DNA '].replace('\\n',''))).upper())\n",
    "        \n",
    "# print(k_names)\n",
    "# print(k_aa)\n",
    "# print(k_dna)"
   ]
  },
  {
   "cell_type": "code",
   "execution_count": 9,
   "metadata": {},
   "outputs": [],
   "source": [
    "# store the values into two strings one with the aa sequences and one with the dna sequences\n",
    "k_aa_output = ''\n",
    "k_dna_output = ''\n",
    "for ind, name in enumerate(k_names):\n",
    "    if k_aa[ind] is not '':\n",
    "        k_aa_output += '>' + name + ' NifK\\n' + k_aa[ind] + '\\n'\n",
    "        k_dna_output += '>' + name + ' NifK\\n' + k_dna[ind] + '\\n'"
   ]
  },
  {
   "cell_type": "code",
   "execution_count": 10,
   "metadata": {},
   "outputs": [],
   "source": [
    "# write in the two strings into two text files\n",
    "open('../bioinformatics/NifK_aa.txt', 'w').close()\n",
    "with open('../bioinformatics/NifK_aa.txt', 'a') as k:\n",
    "    k.write(k_aa_output)\n",
    "    \n",
    "open('../bioinformatics/NifK_dna.txt', 'w').close()\n",
    "with open('../bioinformatics/NifK_dna.txt', 'a') as k:\n",
    "    k.write(k_dna_output)"
   ]
  },
  {
   "cell_type": "code",
   "execution_count": null,
   "metadata": {},
   "outputs": [],
   "source": []
  }
 ],
 "metadata": {
  "kernelspec": {
   "display_name": "Python 3",
   "language": "python",
   "name": "python3"
  },
  "language_info": {
   "codemirror_mode": {
    "name": "ipython",
    "version": 3
   },
   "file_extension": ".py",
   "mimetype": "text/x-python",
   "name": "python",
   "nbconvert_exporter": "python",
   "pygments_lexer": "ipython3",
   "version": "3.5.2"
  }
 },
 "nbformat": 4,
 "nbformat_minor": 2
}
