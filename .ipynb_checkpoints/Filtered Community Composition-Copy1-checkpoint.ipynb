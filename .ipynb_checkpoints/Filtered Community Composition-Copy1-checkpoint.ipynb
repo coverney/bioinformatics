{
 "cells": [
  {
   "cell_type": "code",
   "execution_count": 16,
   "metadata": {
    "collapsed": true
   },
   "outputs": [],
   "source": [
    "#Resources: https://splinter.readthedocs.io/en/latest/#features \n",
    "#http://web.stanford.edu/~zlotnick/TextAsData/Web_Scraping_with_Beautiful_Soup.html\n",
    "#https://www.crummy.com/software/BeautifulSoup/bs4/doc/\n",
    "\n",
    "#This program conducts a batch BLAST of multiple genes from JGI and stores the top ten results for each BLAST."
   ]
  },
  {
   "cell_type": "code",
   "execution_count": 1,
   "metadata": {
    "collapsed": true
   },
   "outputs": [],
   "source": [
    "#Section 1: imports the necessary libraries and creates the arrays needed to store information from JGI and BLAST (RUN THIS)\n",
    "#You have to make sure that you have the splinter and BeautifulSoup libraries (reference resources above for download process)\n",
    "from splinter import Browser\n",
    "from bs4 import BeautifulSoup\n",
    "import pandas as pd\n",
    "from pandas import ExcelWriter\n",
    "from pandas import ExcelFile\n",
    "import numpy as np\n",
    "from collections import Counter"
   ]
  },
  {
   "cell_type": "code",
   "execution_count": 2,
   "metadata": {
    "collapsed": true
   },
   "outputs": [],
   "source": [
    "# Create scaffold spreadsheet with Filtered Community Composition\n",
    "# Make data frames for every sheet\n",
    "xls = pd.ExcelFile('C:/Users/coverney/Desktop/Research/Meta/Data/Filtered community comparison.xlsx')\n",
    "sample_names = ['FCR15b', 'FCFTC3', 'SCH14c', 'SCB14c', 'FCX16c', \n",
    "                'FCS17a', 'FCW18b', 'SCQ17a', 'SCR11c', 'FCP16c', 'SCD17c']\n",
    "dfs = []\n",
    "for index, name in enumerate(sample_names):\n",
    "    temp_df = pd.read_excel(xls, sample_names[index])\n",
    "    dfs.append(temp_df)"
   ]
  },
  {
   "cell_type": "code",
   "execution_count": 3,
   "metadata": {
    "collapsed": true
   },
   "outputs": [],
   "source": [
    "# Create DataFrames\n",
    "headers = dfs[0].loc[0, 'Scaffold ID':]\n",
    "scaffold = pd.DataFrame(columns=headers.index)\n",
    "# references \n",
    "references = pd.DataFrame(columns=['sample', 'scaffold id', 'gene #', 'pfam name'])"
   ]
  },
  {
   "cell_type": "code",
   "execution_count": 23,
   "metadata": {
    "collapsed": true
   },
   "outputs": [],
   "source": [
    "temp_df = dfs[0]\n",
    "temp_pfams = temp_df['GH1']"
   ]
  },
  {
   "cell_type": "code",
   "execution_count": 4,
   "metadata": {
    "collapsed": true
   },
   "outputs": [],
   "source": [
    "# Go through Lineage Phylum column and if there is a nan\n",
    "# and gene count is >= 5, then add info to scaffold and references spreadsheet\n",
    "for index, df in enumerate(dfs[:1]):\n",
    "#for index, df in enumerate(dfs):\n",
    "    current_pfam = 'GH1'\n",
    "    temp_pfams = df['GH1']\n",
    "    temp_genecounts = df['Gene Count']\n",
    "    temp_phyla = df['Lineage Phylum']\n",
    "    for index2, pfam in enumerate(temp_pfams):\n",
    "        if pfam is not np.nan:\n",
    "            current_pfam = pfam\n",
    "        if temp_phyla[index2] is np.nan:\n",
    "            # Check gene count\n",
    "            temp_genecount = temp_genecounts[index2]\n",
    "            if (temp_genecount is not np.nan) and (temp_genecount >= 5):\n",
    "                temp_row = df.loc[index2, 'Scaffold ID':]\n",
    "                scaffold = scaffold.append(temp_row, ignore_index=True)\n",
    "                temp_row2 = {'sample':sample_names[index], 'scaffold id':temp_row[0], 'gene #':index2, 'pfam name':current_pfam}\n",
    "                references = references.append(temp_row2, ignore_index=True)"
   ]
  },
  {
   "cell_type": "code",
   "execution_count": 68,
   "metadata": {
    "collapsed": true
   },
   "outputs": [],
   "source": [
    "scaffold.to_excel(\"C:/Users/coverney/Desktop/Research/Meta/Data/scaffolds.xlsx\", index=False)"
   ]
  },
  {
   "cell_type": "code",
   "execution_count": 112,
   "metadata": {
    "collapsed": true
   },
   "outputs": [],
   "source": [
    "#Section 2: opens up a Chrome browser (RUN THIS)\n",
    "executable_path = {'executable_path':'C:\\Program Files\\chromedriver.exe'}\n",
    "browser = Browser('chrome', **executable_path)"
   ]
  },
  {
   "cell_type": "code",
   "execution_count": 119,
   "metadata": {
    "collapsed": true
   },
   "outputs": [],
   "source": [
    "scaffold_cart_url = \"https://img.jgi.doe.gov/cgi-bin/mer/main.cgi?section=ScaffoldCart&page=index\"\n",
    "browser.visit(scaffold_cart_url)"
   ]
  },
  {
   "cell_type": "code",
   "execution_count": 89,
   "metadata": {},
   "outputs": [
    {
     "data": {
      "text/plain": [
       "32"
      ]
     },
     "execution_count": 89,
     "metadata": {},
     "output_type": "execute_result"
    }
   ],
   "source": [
    "len(scaffold['Scaffold ID'].unique())"
   ]
  },
  {
   "cell_type": "code",
   "execution_count": 120,
   "metadata": {
    "collapsed": true
   },
   "outputs": [],
   "source": [
    "# Go through scaffolds in scaffold cart and store urls to gene counts\n",
    "gene_count_urls = []\n",
    "scaffold_ids = []\n",
    "gene_counts = []\n",
    "for i in range(0,len(scaffold['Scaffold ID'].unique())):\n",
    "    button = browser.find_by_id('yui-rec' + str(i))\n",
    "    soup = BeautifulSoup(button.html, \"html.parser\")\n",
    "    links = soup.find_all('a')\n",
    "    gene_count_urls.append(links[2].get('href'))\n",
    "    gene_counts.append(links[2].get_text())\n",
    "    scaffold_ids.append(links[0].get_text())"
   ]
  },
  {
   "cell_type": "code",
   "execution_count": 142,
   "metadata": {},
   "outputs": [
    {
     "name": "stdout",
     "output_type": "stream",
     "text": [
      "hypo protein\n",
      "hypo protein\n",
      "hypo protein\n",
      "hypo protein\n",
      "hypo protein\n",
      "hypo protein\n",
      "hypo protein\n",
      "hypo protein\n",
      "hypo protein\n",
      "hypo protein\n",
      "hypo protein\n",
      "hypo protein\n",
      "hypo protein\n",
      "hypo protein\n",
      "hypo protein\n",
      "hypo protein\n",
      "hypo protein\n",
      "hypo protein\n"
     ]
    },
    {
     "data": {
      "text/html": [
       "<div>\n",
       "<style scoped>\n",
       "    .dataframe tbody tr th:only-of-type {\n",
       "        vertical-align: middle;\n",
       "    }\n",
       "\n",
       "    .dataframe tbody tr th {\n",
       "        vertical-align: top;\n",
       "    }\n",
       "\n",
       "    .dataframe thead th {\n",
       "        text-align: right;\n",
       "    }\n",
       "</style>\n",
       "<table border=\"1\" class=\"dataframe\">\n",
       "  <thead>\n",
       "    <tr style=\"text-align: right;\">\n",
       "      <th></th>\n",
       "      <th>scaffold id</th>\n",
       "      <th>num_seqs</th>\n",
       "      <th>seq1</th>\n",
       "      <th>seq2</th>\n",
       "      <th>seq3</th>\n",
       "      <th>seq4</th>\n",
       "      <th>seq5</th>\n",
       "    </tr>\n",
       "  </thead>\n",
       "  <tbody>\n",
       "    <tr>\n",
       "      <th>0</th>\n",
       "      <td>Ga0136444_100052</td>\n",
       "      <td>5</td>\n",
       "      <td>MATDELLRPTVRLDVFDGPLDLLLYLVHSHELDPRTIPVSQIADQY...</td>\n",
       "      <td>MLLPLPVDALRPAFLELRARHRPVVVTSPTGSGKSTRVPLWCAETG...</td>\n",
       "      <td>MLASFLERQSDLAGLLGAGAWLSLLWVRRAAALPGGKGFDAAAVAL...</td>\n",
       "      <td>MNGTGPDETVWTALARCWEELFPLRPARTAMCRALVSAGGRLLDAG...</td>\n",
       "      <td>MVEEDSPDFTSFYTTTAVSERSLSFMGTAIGRDFGREDLEDRANGA...</td>\n",
       "    </tr>\n",
       "    <tr>\n",
       "      <th>1</th>\n",
       "      <td>Ga0136444_100059</td>\n",
       "      <td>5</td>\n",
       "      <td>MRIRLVCFGKLVPKPLGPAVEEYAKRLEKLCRLEIHELPEAQGPDA...</td>\n",
       "      <td>MSEPLFVQPFQVRDHECDLQGIVNNAVYQNYLEHARHEYLRSRGVD...</td>\n",
       "      <td>MGDGSNVRKRAGFTMVEVITVVVVVGLLAGLVVPRFFKAQGRRQLE...</td>\n",
       "      <td>VDLGRQLEEIVNRRARRAYTLVEVLVAMVILGLVLPGLATMLVSSR...</td>\n",
       "      <td>MTRRGLTLLELLVAMILTGILAWLALGMFTGESANYRRTREKVKMQ...</td>\n",
       "    </tr>\n",
       "    <tr>\n",
       "      <th>2</th>\n",
       "      <td>Ga0136444_100076</td>\n",
       "      <td>5</td>\n",
       "      <td>MHVVLFCALSLDGCLAREDGSLDWLPQDPGATDDMGFSALLASVDG...</td>\n",
       "      <td>MSSPSHPVGPAIALRHDGDFEGFLTAVFEIFRLRLESAVPVARRLH...</td>\n",
       "      <td>VQSKLSILSAAAKYDVSCSSSGSKRATPSDGLGNGAPAGICHSFTD...</td>\n",
       "      <td>MIRIAHTQLSDAREAVKELRSQLDPIQPRLLLCFSSTRQDPHEMAR...</td>\n",
       "      <td>MAYRIATLNKISPEGLNLFGSEYEVADGLSSPDAILVRSAQLDTDG...</td>\n",
       "    </tr>\n",
       "    <tr>\n",
       "      <th>3</th>\n",
       "      <td>Ga0136444_100106</td>\n",
       "      <td>5</td>\n",
       "      <td>MRTGLLLAVVALVVLAGFAGARALRSQGGGAVPKEATVRDFDEHGE...</td>\n",
       "      <td>LKRTATLSVLALAAAAAAAQTIRVHADAPGHRISPAIYGINSLATG...</td>\n",
       "      <td>MKIAAVFTGGTIGSLATTESVQLDADPPRRVLESWLGSHPGTDVEF...</td>\n",
       "      <td>MSAGTFEIHARCGKARTGVLTTDHGDIRTPAFMPVGTAGSVKSLTS...</td>\n",
       "      <td>VPRYNPSSIEPKWQSVWAANKTFRTPGIAELDRSRPKFYALDMFPY...</td>\n",
       "    </tr>\n",
       "    <tr>\n",
       "      <th>4</th>\n",
       "      <td>Ga0136444_100122</td>\n",
       "      <td>5</td>\n",
       "      <td>PPGAIVPQNGRNPFSSRRWLDAQDRLLPLDSLIPWPGGASIVLRKL...</td>\n",
       "      <td>MDIAFLGLGIMGSRMAANLAAAGHTVRVWNRSPEKALALASHGCRP...</td>\n",
       "      <td>MYTIANLATPRSFIDEFFREVERASSATPAFQPAADVVEVEGGWKV...</td>\n",
       "      <td>MTRPVGLLLANLGTPSAPTAAAVRPYLRQFLTDRRVIDIPWLPRQL...</td>\n",
       "      <td>MAPATDSDGRPTVDGRSHPSFDPPYPRKSTMNPQRFLPLLAATTLL...</td>\n",
       "    </tr>\n",
       "  </tbody>\n",
       "</table>\n",
       "</div>"
      ],
      "text/plain": [
       "        scaffold id num_seqs  \\\n",
       "0  Ga0136444_100052        5   \n",
       "1  Ga0136444_100059        5   \n",
       "2  Ga0136444_100076        5   \n",
       "3  Ga0136444_100106        5   \n",
       "4  Ga0136444_100122        5   \n",
       "\n",
       "                                                seq1  \\\n",
       "0  MATDELLRPTVRLDVFDGPLDLLLYLVHSHELDPRTIPVSQIADQY...   \n",
       "1  MRIRLVCFGKLVPKPLGPAVEEYAKRLEKLCRLEIHELPEAQGPDA...   \n",
       "2  MHVVLFCALSLDGCLAREDGSLDWLPQDPGATDDMGFSALLASVDG...   \n",
       "3  MRTGLLLAVVALVVLAGFAGARALRSQGGGAVPKEATVRDFDEHGE...   \n",
       "4  PPGAIVPQNGRNPFSSRRWLDAQDRLLPLDSLIPWPGGASIVLRKL...   \n",
       "\n",
       "                                                seq2  \\\n",
       "0  MLLPLPVDALRPAFLELRARHRPVVVTSPTGSGKSTRVPLWCAETG...   \n",
       "1  MSEPLFVQPFQVRDHECDLQGIVNNAVYQNYLEHARHEYLRSRGVD...   \n",
       "2  MSSPSHPVGPAIALRHDGDFEGFLTAVFEIFRLRLESAVPVARRLH...   \n",
       "3  LKRTATLSVLALAAAAAAAQTIRVHADAPGHRISPAIYGINSLATG...   \n",
       "4  MDIAFLGLGIMGSRMAANLAAAGHTVRVWNRSPEKALALASHGCRP...   \n",
       "\n",
       "                                                seq3  \\\n",
       "0  MLASFLERQSDLAGLLGAGAWLSLLWVRRAAALPGGKGFDAAAVAL...   \n",
       "1  MGDGSNVRKRAGFTMVEVITVVVVVGLLAGLVVPRFFKAQGRRQLE...   \n",
       "2  VQSKLSILSAAAKYDVSCSSSGSKRATPSDGLGNGAPAGICHSFTD...   \n",
       "3  MKIAAVFTGGTIGSLATTESVQLDADPPRRVLESWLGSHPGTDVEF...   \n",
       "4  MYTIANLATPRSFIDEFFREVERASSATPAFQPAADVVEVEGGWKV...   \n",
       "\n",
       "                                                seq4  \\\n",
       "0  MNGTGPDETVWTALARCWEELFPLRPARTAMCRALVSAGGRLLDAG...   \n",
       "1  VDLGRQLEEIVNRRARRAYTLVEVLVAMVILGLVLPGLATMLVSSR...   \n",
       "2  MIRIAHTQLSDAREAVKELRSQLDPIQPRLLLCFSSTRQDPHEMAR...   \n",
       "3  MSAGTFEIHARCGKARTGVLTTDHGDIRTPAFMPVGTAGSVKSLTS...   \n",
       "4  MTRPVGLLLANLGTPSAPTAAAVRPYLRQFLTDRRVIDIPWLPRQL...   \n",
       "\n",
       "                                                seq5  \n",
       "0  MVEEDSPDFTSFYTTTAVSERSLSFMGTAIGRDFGREDLEDRANGA...  \n",
       "1  MTRRGLTLLELLVAMILTGILAWLALGMFTGESANYRRTREKVKMQ...  \n",
       "2  MAYRIATLNKISPEGLNLFGSEYEVADGLSSPDAILVRSAQLDTDG...  \n",
       "3  VPRYNPSSIEPKWQSVWAANKTFRTPGIAELDRSRPKFYALDMFPY...  \n",
       "4  MAPATDSDGRPTVDGRSHPSFDPPYPRKSTMNPQRFLPLLAATTLL...  "
      ]
     },
     "execution_count": 142,
     "metadata": {},
     "output_type": "execute_result"
    }
   ],
   "source": [
    "#Section 3: obtains the top three amino acid sequences from the gene list and stores them in the sequences array\n",
    "#The gene_url is the link to the gene list of a particular scaffold (replace this url with your own), you may be prompted to sign into JGI. \n",
    "#If so, sign in and then re-run this section. \n",
    "#Change the number of genes to blast by changing the \"range(0,3)\" section to \"range(0,n)\", n being the number you want\n",
    "import time\n",
    "prefix = \"https://img.jgi.doe.gov/cgi-bin/mer/\"\n",
    "#gene_sequences = pd.DataFrame(columns=['scaffold id', 'num_seqs', 'seq1', 'seq2', 'seq3', 'seq4', 'seq5'])\n",
    "#for index, url in enumerate(gene_count_urls[:1]):\n",
    "for index, url in enumerate(gene_count_urls[29:]):\n",
    "    temp_sequences = []\n",
    "    count = 0\n",
    "    ind = 0\n",
    "    gene_count = int(gene_counts[index+29])\n",
    "    while(count < 5 and ind < gene_count):\n",
    "        browser.visit(prefix+url)\n",
    "        button = browser.find_by_id('yui-rec' + str(ind))\n",
    "        soup = BeautifulSoup(button.html, \"html.parser\")\n",
    "        # Make sure Locus Type is CDS\n",
    "        links = soup.find_all('a')\n",
    "        geneid = links[0].get_text()\n",
    "        if soup.get_text()[len(geneid): len(geneid)+3] == 'CDS':\n",
    "            gene_name = soup.get_text()[len(geneid)+3+len(geneid):]\n",
    "            if 'hypothetical protein' not in gene_name:\n",
    "                gene_url2 = links[0].get('href')\n",
    "                browser.visit(prefix + gene_url2)\n",
    "                soup2 = BeautifulSoup(browser.html, \"html.parser\")\n",
    "                tab = soup2.table\n",
    "                tabs = tab.find_all('tr')\n",
    "                gene_url3 = tabs[15].a.get('href')\n",
    "                browser.visit(prefix + gene_url3)\n",
    "                soup3 = BeautifulSoup(browser.html, \"html.parser\")\n",
    "                a = soup3.pre.get_text()\n",
    "                b = soup3.pre.font.get_text()\n",
    "                amino = \"\".join(a.rsplit(b))\n",
    "                amino = amino.replace('\\n', '')\n",
    "                temp_sequences.append(amino)\n",
    "                count += 1\n",
    "            else:\n",
    "                print('hypo protein')\n",
    "        ind += 1\n",
    "    new_row = {'scaffold id':scaffold_ids[index], 'num_seqs':count}\n",
    "    for i in range(0, count):\n",
    "        temp_name = 'seq' + str(i+1)\n",
    "        new_row.update({temp_name:temp_sequences[i]})\n",
    "    gene_sequences = gene_sequences.append(new_row, ignore_index=True)\n",
    "\n",
    "gene_sequences.head()"
   ]
  },
  {
   "cell_type": "code",
   "execution_count": 151,
   "metadata": {},
   "outputs": [
    {
     "data": {
      "text/plain": [
       "32"
      ]
     },
     "execution_count": 151,
     "metadata": {},
     "output_type": "execute_result"
    }
   ],
   "source": [
    "gene_sequences.shape[0]"
   ]
  },
  {
   "cell_type": "code",
   "execution_count": 144,
   "metadata": {
    "collapsed": true
   },
   "outputs": [],
   "source": [
    "gene_sequences.to_excel(\"C:/Users/coverney/Desktop/Research/Meta/Data/gene_sequences1.xlsx\", index=False)"
   ]
  },
  {
   "cell_type": "code",
   "execution_count": 3,
   "metadata": {},
   "outputs": [
    {
     "data": {
      "text/html": [
       "<div>\n",
       "<style scoped>\n",
       "    .dataframe tbody tr th:only-of-type {\n",
       "        vertical-align: middle;\n",
       "    }\n",
       "\n",
       "    .dataframe tbody tr th {\n",
       "        vertical-align: top;\n",
       "    }\n",
       "\n",
       "    .dataframe thead th {\n",
       "        text-align: right;\n",
       "    }\n",
       "</style>\n",
       "<table border=\"1\" class=\"dataframe\">\n",
       "  <thead>\n",
       "    <tr style=\"text-align: right;\">\n",
       "      <th></th>\n",
       "      <th>scaffold id</th>\n",
       "      <th>num_seqs</th>\n",
       "      <th>seq1</th>\n",
       "      <th>seq2</th>\n",
       "      <th>seq3</th>\n",
       "      <th>seq4</th>\n",
       "      <th>seq5</th>\n",
       "    </tr>\n",
       "  </thead>\n",
       "  <tbody>\n",
       "    <tr>\n",
       "      <th>0</th>\n",
       "      <td>Ga0136444_100052</td>\n",
       "      <td>5</td>\n",
       "      <td>MATDELLRPTVRLDVFDGPLDLLLYLVHSHELDPRTIPVSQIADQY...</td>\n",
       "      <td>MLLPLPVDALRPAFLELRARHRPVVVTSPTGSGKSTRVPLWCAETG...</td>\n",
       "      <td>MLASFLERQSDLAGLLGAGAWLSLLWVRRAAALPGGKGFDAAAVAL...</td>\n",
       "      <td>MNGTGPDETVWTALARCWEELFPLRPARTAMCRALVSAGGRLLDAG...</td>\n",
       "      <td>MVEEDSPDFTSFYTTTAVSERSLSFMGTAIGRDFGREDLEDRANGA...</td>\n",
       "    </tr>\n",
       "    <tr>\n",
       "      <th>1</th>\n",
       "      <td>Ga0136444_100059</td>\n",
       "      <td>5</td>\n",
       "      <td>MRIRLVCFGKLVPKPLGPAVEEYAKRLEKLCRLEIHELPEAQGPDA...</td>\n",
       "      <td>MSEPLFVQPFQVRDHECDLQGIVNNAVYQNYLEHARHEYLRSRGVD...</td>\n",
       "      <td>MGDGSNVRKRAGFTMVEVITVVVVVGLLAGLVVPRFFKAQGRRQLE...</td>\n",
       "      <td>VDLGRQLEEIVNRRARRAYTLVEVLVAMVILGLVLPGLATMLVSSR...</td>\n",
       "      <td>MTRRGLTLLELLVAMILTGILAWLALGMFTGESANYRRTREKVKMQ...</td>\n",
       "    </tr>\n",
       "    <tr>\n",
       "      <th>2</th>\n",
       "      <td>Ga0136444_100076</td>\n",
       "      <td>5</td>\n",
       "      <td>MHVVLFCALSLDGCLAREDGSLDWLPQDPGATDDMGFSALLASVDG...</td>\n",
       "      <td>MSSPSHPVGPAIALRHDGDFEGFLTAVFEIFRLRLESAVPVARRLH...</td>\n",
       "      <td>VQSKLSILSAAAKYDVSCSSSGSKRATPSDGLGNGAPAGICHSFTD...</td>\n",
       "      <td>MIRIAHTQLSDAREAVKELRSQLDPIQPRLLLCFSSTRQDPHEMAR...</td>\n",
       "      <td>MAYRIATLNKISPEGLNLFGSEYEVADGLSSPDAILVRSAQLDTDG...</td>\n",
       "    </tr>\n",
       "    <tr>\n",
       "      <th>3</th>\n",
       "      <td>Ga0136444_100106</td>\n",
       "      <td>5</td>\n",
       "      <td>MRTGLLLAVVALVVLAGFAGARALRSQGGGAVPKEATVRDFDEHGE...</td>\n",
       "      <td>LKRTATLSVLALAAAAAAAQTIRVHADAPGHRISPAIYGINSLATG...</td>\n",
       "      <td>MKIAAVFTGGTIGSLATTESVQLDADPPRRVLESWLGSHPGTDVEF...</td>\n",
       "      <td>MSAGTFEIHARCGKARTGVLTTDHGDIRTPAFMPVGTAGSVKSLTS...</td>\n",
       "      <td>VPRYNPSSIEPKWQSVWAANKTFRTPGIAELDRSRPKFYALDMFPY...</td>\n",
       "    </tr>\n",
       "    <tr>\n",
       "      <th>4</th>\n",
       "      <td>Ga0136444_100122</td>\n",
       "      <td>5</td>\n",
       "      <td>PPGAIVPQNGRNPFSSRRWLDAQDRLLPLDSLIPWPGGASIVLRKL...</td>\n",
       "      <td>MDIAFLGLGIMGSRMAANLAAAGHTVRVWNRSPEKALALASHGCRP...</td>\n",
       "      <td>MYTIANLATPRSFIDEFFREVERASSATPAFQPAADVVEVEGGWKV...</td>\n",
       "      <td>MTRPVGLLLANLGTPSAPTAAAVRPYLRQFLTDRRVIDIPWLPRQL...</td>\n",
       "      <td>MAPATDSDGRPTVDGRSHPSFDPPYPRKSTMNPQRFLPLLAATTLL...</td>\n",
       "    </tr>\n",
       "  </tbody>\n",
       "</table>\n",
       "</div>"
      ],
      "text/plain": [
       "        scaffold id  num_seqs  \\\n",
       "0  Ga0136444_100052         5   \n",
       "1  Ga0136444_100059         5   \n",
       "2  Ga0136444_100076         5   \n",
       "3  Ga0136444_100106         5   \n",
       "4  Ga0136444_100122         5   \n",
       "\n",
       "                                                seq1  \\\n",
       "0  MATDELLRPTVRLDVFDGPLDLLLYLVHSHELDPRTIPVSQIADQY...   \n",
       "1  MRIRLVCFGKLVPKPLGPAVEEYAKRLEKLCRLEIHELPEAQGPDA...   \n",
       "2  MHVVLFCALSLDGCLAREDGSLDWLPQDPGATDDMGFSALLASVDG...   \n",
       "3  MRTGLLLAVVALVVLAGFAGARALRSQGGGAVPKEATVRDFDEHGE...   \n",
       "4  PPGAIVPQNGRNPFSSRRWLDAQDRLLPLDSLIPWPGGASIVLRKL...   \n",
       "\n",
       "                                                seq2  \\\n",
       "0  MLLPLPVDALRPAFLELRARHRPVVVTSPTGSGKSTRVPLWCAETG...   \n",
       "1  MSEPLFVQPFQVRDHECDLQGIVNNAVYQNYLEHARHEYLRSRGVD...   \n",
       "2  MSSPSHPVGPAIALRHDGDFEGFLTAVFEIFRLRLESAVPVARRLH...   \n",
       "3  LKRTATLSVLALAAAAAAAQTIRVHADAPGHRISPAIYGINSLATG...   \n",
       "4  MDIAFLGLGIMGSRMAANLAAAGHTVRVWNRSPEKALALASHGCRP...   \n",
       "\n",
       "                                                seq3  \\\n",
       "0  MLASFLERQSDLAGLLGAGAWLSLLWVRRAAALPGGKGFDAAAVAL...   \n",
       "1  MGDGSNVRKRAGFTMVEVITVVVVVGLLAGLVVPRFFKAQGRRQLE...   \n",
       "2  VQSKLSILSAAAKYDVSCSSSGSKRATPSDGLGNGAPAGICHSFTD...   \n",
       "3  MKIAAVFTGGTIGSLATTESVQLDADPPRRVLESWLGSHPGTDVEF...   \n",
       "4  MYTIANLATPRSFIDEFFREVERASSATPAFQPAADVVEVEGGWKV...   \n",
       "\n",
       "                                                seq4  \\\n",
       "0  MNGTGPDETVWTALARCWEELFPLRPARTAMCRALVSAGGRLLDAG...   \n",
       "1  VDLGRQLEEIVNRRARRAYTLVEVLVAMVILGLVLPGLATMLVSSR...   \n",
       "2  MIRIAHTQLSDAREAVKELRSQLDPIQPRLLLCFSSTRQDPHEMAR...   \n",
       "3  MSAGTFEIHARCGKARTGVLTTDHGDIRTPAFMPVGTAGSVKSLTS...   \n",
       "4  MTRPVGLLLANLGTPSAPTAAAVRPYLRQFLTDRRVIDIPWLPRQL...   \n",
       "\n",
       "                                                seq5  \n",
       "0  MVEEDSPDFTSFYTTTAVSERSLSFMGTAIGRDFGREDLEDRANGA...  \n",
       "1  MTRRGLTLLELLVAMILTGILAWLALGMFTGESANYRRTREKVKMQ...  \n",
       "2  MAYRIATLNKISPEGLNLFGSEYEVADGLSSPDAILVRSAQLDTDG...  \n",
       "3  VPRYNPSSIEPKWQSVWAANKTFRTPGIAELDRSRPKFYALDMFPY...  \n",
       "4  MAPATDSDGRPTVDGRSHPSFDPPYPRKSTMNPQRFLPLLAATTLL...  "
      ]
     },
     "execution_count": 3,
     "metadata": {},
     "output_type": "execute_result"
    }
   ],
   "source": [
    "# read in gene sequences\n",
    "gene_sequences = pd.read_excel('C:/Users/coverney/Desktop/Research/Meta/Data/gene_sequences1.xlsx')\n",
    "gene_sequences.head()"
   ]
  },
  {
   "cell_type": "code",
   "execution_count": 4,
   "metadata": {},
   "outputs": [
    {
     "data": {
      "text/plain": [
       "'MRIAYQIEGSRLAQCDAEQAKVLVYVAPTEADRRELVDLHGLDEHTLNSALDPDELPRLEFEADHTALIMKRPRPHSPRDKYLFKVASFGLFLFKDKMILVAGDEVQFFEGKLFQRITGVADLALRVVYRSIWHFVDHLKVINMISDSLEEKINASMENRYLIDLFTLEKSLVYYLNAISGNGVVFERLKLNALRVGFSIDMTEMLDDLVIENNQCFKQAEIYSNILAGLMDARASIVSNNLNMLMKNLNVITIAIMVPTFVVSAFSMNVILPWGMAEAKWSFWFVMGLATISVFGYMWRSRKW*'"
      ]
     },
     "execution_count": 4,
     "metadata": {},
     "output_type": "execute_result"
    }
   ],
   "source": [
    "gene_sequences_seqs = gene_sequences.loc[:, 'seq1':]\n",
    "gene_sequences_seqs.iloc[12].values[0]"
   ]
  },
  {
   "cell_type": "code",
   "execution_count": 2,
   "metadata": {
    "collapsed": true
   },
   "outputs": [],
   "source": [
    "executable_path = {'executable_path':'C:\\Program Files\\chromedriver.exe'}\n",
    "browser = Browser('chrome', **executable_path)"
   ]
  },
  {
   "cell_type": "code",
   "execution_count": 5,
   "metadata": {
    "collapsed": true
   },
   "outputs": [],
   "source": [
    "def wait(browser):\n",
    "    found_title = browser.find_by_text('                            \\n                   BLAST Results\\n                ')\n",
    "    if found_title:\n",
    "        return 1\n",
    "    else:\n",
    "        return 0"
   ]
  },
  {
   "cell_type": "code",
   "execution_count": 18,
   "metadata": {
    "collapsed": true
   },
   "outputs": [],
   "source": [
    "def blast(seq, browser):\n",
    "    blast_url = \"https://blast.ncbi.nlm.nih.gov/Blast.cgi?PAGE=Proteins\"\n",
    "    browser.visit(blast_url)\n",
    "    browser.fill('QUERY', seq)\n",
    "    button = browser.find_by_id('b1')\n",
    "    button.click()\n",
    "    move_on = wait(browser)\n",
    "    while not move_on:\n",
    "        move_on = wait(browser)\n",
    "    table = browser.find_by_id('dscTable')\n",
    "    result = []\n",
    "    if len(table) != 0:\n",
    "        for i in range(1,11):  \n",
    "            try:\n",
    "                res = table.find_by_id('deflnDesc_' + str(i)).html\n",
    "                pos = res.find('[')\n",
    "                result.append(res[pos+1:-1])\n",
    "            except:\n",
    "                break\n",
    "    return result"
   ]
  },
  {
   "cell_type": "code",
   "execution_count": 7,
   "metadata": {
    "collapsed": true
   },
   "outputs": [],
   "source": [
    "def find_phylum(val, browser):\n",
    "    tax_website = 'https://www.ncbi.nlm.nih.gov/taxonomy'\n",
    "    browser.visit(tax_website)\n",
    "    browser.fill('term', val)\n",
    "    button = browser.find_by_id('search')\n",
    "    button.click()\n",
    "    wait = browser.find_by_id('messagearea')\n",
    "    while len(wait) is 0:\n",
    "        wait = browser.find_by_id('messagearea')\n",
    "    search_area = browser.find_by_id('maincontent')\n",
    "    soup = BeautifulSoup(search_area.html, \"html.parser\")\n",
    "    links = soup.find_all('a')\n",
    "    for link in links:\n",
    "        if link.get_text() == val:\n",
    "            url = 'https://www.ncbi.nlm.nih.gov/'+link.get('href')\n",
    "            break\n",
    "    browser.visit(url)\n",
    "    soup = BeautifulSoup(browser.html, \"html.parser\")\n",
    "    try:\n",
    "        phylum = soup.find(title='phylum').get_text()\n",
    "        return phylum\n",
    "    except:\n",
    "        return 'none'"
   ]
  },
  {
   "cell_type": "code",
   "execution_count": 17,
   "metadata": {
    "collapsed": true
   },
   "outputs": [],
   "source": [
    "def find_phylum_of_gene(phyla):\n",
    "    counter = Counter(phyla).most_common(1)\n",
    "    if counter[0][1] >= 3:\n",
    "        phylum = counter[0][0]\n",
    "    else:\n",
    "        phylum = 'none'\n",
    "    return phylum"
   ]
  },
  {
   "cell_type": "code",
   "execution_count": 9,
   "metadata": {
    "collapsed": true
   },
   "outputs": [],
   "source": [
    "def find_phylum_of_scaffold(phyla):\n",
    "    counter = Counter(phyla).most_common(1)\n",
    "    if counter[0][0] != 'none' and counter[0][1] >= 2:\n",
    "        phylum = counter[0][0]\n",
    "    else:\n",
    "        phylum = 'Unclassified'\n",
    "    return phylum"
   ]
  },
  {
   "cell_type": "code",
   "execution_count": 10,
   "metadata": {
    "collapsed": true
   },
   "outputs": [],
   "source": [
    "def find_phyla_of_sample(gene_sequences_seqs, rng):\n",
    "    overall_phyla = []\n",
    "    # Go through every scaffold\n",
    "    for index in rng:\n",
    "        scaffold_phyla = []\n",
    "        # Get the gene sequences of the scaffold\n",
    "        sequences = gene_sequences_seqs.iloc[index].values[1:]\n",
    "        # Go through the sequences and BLAST\n",
    "        index2 = 0\n",
    "        three_phyla = 0\n",
    "        while index2 < len(sequences) and three_phyla < 3:\n",
    "            seq = sequences[index2]\n",
    "            blast_results = blast(seq, browser) # results for one gene\n",
    "            if not blast_results:\n",
    "                gene_phyla = []\n",
    "                for elm in blast_results:\n",
    "                    gene_phyla.append(find_phylum(elm, browser))\n",
    "                # Find phylum of gene \n",
    "                gene_phylum = find_phylum_of_gene(gene_phyla)\n",
    "                print(gene_phylum)\n",
    "                # If phyla is not none then increment three_phyla\n",
    "                if gene_phylum != 'none':\n",
    "                    three_phyla += 1\n",
    "                    scaffold_phyla.append(gene_phylum)\n",
    "            index2 += 1\n",
    "        # Find phylum of scaffold\n",
    "        scaffold_phylum = find_phylum_of_scaffold(scaffold_phyla)\n",
    "        overall_phyla.append(scaffold_phylum)\n",
    "    return overall_phyla"
   ]
  },
  {
   "cell_type": "code",
   "execution_count": 13,
   "metadata": {},
   "outputs": [
    {
     "name": "stdout",
     "output_type": "stream",
     "text": [
      "Verrucomicrobia\n"
     ]
    },
    {
     "ename": "IndexError",
     "evalue": "list index out of range",
     "output_type": "error",
     "traceback": [
      "\u001b[1;31m---------------------------------------------------------------------------\u001b[0m",
      "\u001b[1;31mIndexError\u001b[0m                                Traceback (most recent call last)",
      "\u001b[1;32m<ipython-input-13-347e24a416e8>\u001b[0m in \u001b[0;36m<module>\u001b[1;34m()\u001b[0m\n\u001b[0;32m      1\u001b[0m \u001b[1;31m#overall_phyla = find_phyla_of_sample(gene_sequences_seqs, range(0,gene_sequences_seqs.shape[0]))\u001b[0m\u001b[1;33m\u001b[0m\u001b[1;33m\u001b[0m\u001b[0m\n\u001b[1;32m----> 2\u001b[1;33m \u001b[0moverall_phyla\u001b[0m \u001b[1;33m=\u001b[0m \u001b[0mfind_phyla_of_sample\u001b[0m\u001b[1;33m(\u001b[0m\u001b[0mgene_sequences_seqs\u001b[0m\u001b[1;33m,\u001b[0m \u001b[0mrange\u001b[0m\u001b[1;33m(\u001b[0m\u001b[1;36m3\u001b[0m\u001b[1;33m,\u001b[0m\u001b[1;36m4\u001b[0m\u001b[1;33m)\u001b[0m\u001b[1;33m)\u001b[0m\u001b[1;33m\u001b[0m\u001b[0m\n\u001b[0m\u001b[0;32m      3\u001b[0m \u001b[0mprint\u001b[0m\u001b[1;33m(\u001b[0m\u001b[0moverall_phyla\u001b[0m\u001b[1;33m)\u001b[0m\u001b[1;33m\u001b[0m\u001b[0m\n\u001b[0;32m      4\u001b[0m \u001b[1;31m#gene_sequences['phylum'] = pd.Series(overall_phyla)\u001b[0m\u001b[1;33m\u001b[0m\u001b[1;33m\u001b[0m\u001b[0m\n\u001b[0;32m      5\u001b[0m \u001b[1;31m#gene_sequences.to_excel(\"C:/Users/coverney/Desktop/Research/Meta/Data/gene_sequences2.xlsx\", index=False)\u001b[0m\u001b[1;33m\u001b[0m\u001b[1;33m\u001b[0m\u001b[0m\n",
      "\u001b[1;32m<ipython-input-10-7107d84ce9ad>\u001b[0m in \u001b[0;36mfind_phyla_of_sample\u001b[1;34m(gene_sequences_seqs, rng)\u001b[0m\n\u001b[0;32m     16\u001b[0m                 \u001b[0mgene_phyla\u001b[0m\u001b[1;33m.\u001b[0m\u001b[0mappend\u001b[0m\u001b[1;33m(\u001b[0m\u001b[0mfind_phylum\u001b[0m\u001b[1;33m(\u001b[0m\u001b[0melm\u001b[0m\u001b[1;33m,\u001b[0m \u001b[0mbrowser\u001b[0m\u001b[1;33m)\u001b[0m\u001b[1;33m)\u001b[0m\u001b[1;33m\u001b[0m\u001b[0m\n\u001b[0;32m     17\u001b[0m             \u001b[1;31m# Find phylum of gene\u001b[0m\u001b[1;33m\u001b[0m\u001b[1;33m\u001b[0m\u001b[0m\n\u001b[1;32m---> 18\u001b[1;33m             \u001b[0mgene_phylum\u001b[0m \u001b[1;33m=\u001b[0m \u001b[0mfind_phylum_of_gene\u001b[0m\u001b[1;33m(\u001b[0m\u001b[0mgene_phyla\u001b[0m\u001b[1;33m)\u001b[0m\u001b[1;33m\u001b[0m\u001b[0m\n\u001b[0m\u001b[0;32m     19\u001b[0m             \u001b[0mprint\u001b[0m\u001b[1;33m(\u001b[0m\u001b[0mgene_phylum\u001b[0m\u001b[1;33m)\u001b[0m\u001b[1;33m\u001b[0m\u001b[0m\n\u001b[0;32m     20\u001b[0m             \u001b[1;31m# If phyla is not none then increment three_phyla\u001b[0m\u001b[1;33m\u001b[0m\u001b[1;33m\u001b[0m\u001b[0m\n",
      "\u001b[1;32m<ipython-input-8-502ed0b559b6>\u001b[0m in \u001b[0;36mfind_phylum_of_gene\u001b[1;34m(phyla)\u001b[0m\n\u001b[0;32m      1\u001b[0m \u001b[1;32mdef\u001b[0m \u001b[0mfind_phylum_of_gene\u001b[0m\u001b[1;33m(\u001b[0m\u001b[0mphyla\u001b[0m\u001b[1;33m)\u001b[0m\u001b[1;33m:\u001b[0m\u001b[1;33m\u001b[0m\u001b[0m\n\u001b[0;32m      2\u001b[0m     \u001b[0mcounter\u001b[0m \u001b[1;33m=\u001b[0m \u001b[0mCounter\u001b[0m\u001b[1;33m(\u001b[0m\u001b[0mphyla\u001b[0m\u001b[1;33m)\u001b[0m\u001b[1;33m.\u001b[0m\u001b[0mmost_common\u001b[0m\u001b[1;33m(\u001b[0m\u001b[1;36m1\u001b[0m\u001b[1;33m)\u001b[0m\u001b[1;33m\u001b[0m\u001b[0m\n\u001b[1;32m----> 3\u001b[1;33m     \u001b[1;32mif\u001b[0m \u001b[0mcounter\u001b[0m\u001b[1;33m[\u001b[0m\u001b[1;36m0\u001b[0m\u001b[1;33m]\u001b[0m\u001b[1;33m[\u001b[0m\u001b[1;36m1\u001b[0m\u001b[1;33m]\u001b[0m \u001b[1;33m>=\u001b[0m \u001b[1;36m3\u001b[0m\u001b[1;33m:\u001b[0m\u001b[1;33m\u001b[0m\u001b[0m\n\u001b[0m\u001b[0;32m      4\u001b[0m         \u001b[0mphylum\u001b[0m \u001b[1;33m=\u001b[0m \u001b[0mcounter\u001b[0m\u001b[1;33m[\u001b[0m\u001b[1;36m0\u001b[0m\u001b[1;33m]\u001b[0m\u001b[1;33m[\u001b[0m\u001b[1;36m0\u001b[0m\u001b[1;33m]\u001b[0m\u001b[1;33m\u001b[0m\u001b[0m\n\u001b[0;32m      5\u001b[0m     \u001b[1;32melse\u001b[0m\u001b[1;33m:\u001b[0m\u001b[1;33m\u001b[0m\u001b[0m\n",
      "\u001b[1;31mIndexError\u001b[0m: list index out of range"
     ]
    }
   ],
   "source": [
    "#overall_phyla = find_phyla_of_sample(gene_sequences_seqs, range(0,gene_sequences_seqs.shape[0]))\n",
    "overall_phyla = find_phyla_of_sample(gene_sequences_seqs, range(3,4))\n",
    "print(overall_phyla)\n",
    "#gene_sequences['phylum'] = pd.Series(overall_phyla)\n",
    "#gene_sequences.to_excel(\"C:/Users/coverney/Desktop/Research/Meta/Data/gene_sequences2.xlsx\", index=False)"
   ]
  },
  {
   "cell_type": "code",
   "execution_count": null,
   "metadata": {
    "collapsed": true
   },
   "outputs": [],
   "source": []
  },
  {
   "cell_type": "code",
   "execution_count": null,
   "metadata": {
    "collapsed": true
   },
   "outputs": [],
   "source": []
  },
  {
   "cell_type": "code",
   "execution_count": null,
   "metadata": {
    "collapsed": true
   },
   "outputs": [],
   "source": [
    "# Reference NCBI Taxonomy website\n",
    "tax_website = 'https://www.ncbi.nlm.nih.gov/taxonomy'\n",
    "all_phylas = []\n",
    "overall_phyla = []\n",
    "# go through scaffolds\n",
    "#for results in gene_sequences['results']:\n",
    "for results in all_results:\n",
    "    phylas = []\n",
    "    # go through genes\n",
    "    for res in results:\n",
    "        # go through results from one gene\n",
    "        phyla = []\n",
    "        for val in res:\n",
    "            browser.visit(tax_website)\n",
    "            browser.fill('term', val)\n",
    "            button = browser.find_by_id('search')\n",
    "            button.click()\n",
    "            wait = browser.find_by_id('messagearea')\n",
    "            while len(wait) is 0:\n",
    "                wait = browser.find_by_id('messagearea')\n",
    "            search_area = browser.find_by_id('maincontent')\n",
    "            soup = BeautifulSoup(search_area.html, \"html.parser\")\n",
    "            links = soup.find_all('a')\n",
    "            for link in links:\n",
    "                if link.get_text() == val:\n",
    "                    url = 'https://www.ncbi.nlm.nih.gov/'+link.get('href')\n",
    "                    break\n",
    "            browser.visit(url)\n",
    "            soup = BeautifulSoup(browser.html, \"html.parser\")\n",
    "            try:\n",
    "                phylum = soup.find(title='phylum').get_text()\n",
    "                phyla.append(phylum)\n",
    "            except:\n",
    "                continue\n",
    "        gene_phylum_counter = Counter(phyla).most_common(1)\n",
    "        if gene_phylum_counter[0][1] >= 3:\n",
    "            gene_phylum = gene_phylum_counter[0][0]\n",
    "        else:\n",
    "            gene_phylum = 'none'\n",
    "        phylas.append(gene_phylum)\n",
    "    top_phylum = Counter(phylas).most_common(1)\n",
    "    if top_phylum[0][0] != 'none' and top_phylum[0][1] >= 3:\n",
    "        overall_phylum = top_phylum[0][0]\n",
    "    else:\n",
    "        overall_phylum = 'Unclassified'\n",
    "    overall_phyla.append(overall_phylum)\n",
    "    all_phylas.append(phylas)\n",
    "print(overall_phyla)\n",
    "# gene_sequences['phyla'] = pd.Series(overall_phyla)\n",
    "# gene_sequences['phylas'] = pd.Series(all_phylas)"
   ]
  },
  {
   "cell_type": "code",
   "execution_count": null,
   "metadata": {
    "collapsed": true
   },
   "outputs": [],
   "source": []
  },
  {
   "cell_type": "code",
   "execution_count": 156,
   "metadata": {},
   "outputs": [
    {
     "name": "stdout",
     "output_type": "stream",
     "text": [
      "[[['Candidatus Edwardsbacteria bacterium RifOxyC12_full_54_24', 'Desulfobacteraceae bacterium', 'Deltaproteobacteria bacterium HGW-Deltaproteobacteria-15', 'candidate division Zixibacteria bacterium CG_4_9_14_3_um_filter_46_8', 'Ignavibacteria bacterium RBG_13_36_8'], ['Fibrobacter sp. UWEL', 'Fibrobacter sp. UWH8', 'Fibrobacter sp. UWH8', 'Fibrobacter sp. UWOV1', 'Fibrobacter sp. UWCM'], ['Spirochaetes bacterium', 'Spirochaetae bacterium HGW-Spirochaetae-1', 'Turneriella parva', 'Acidobacteria bacterium', 'Thermococcus profundus'], ['Fibrobacter sp. UWB1', 'Fibrobacter sp. UWOV1', 'Fibrobacter', 'Fibrobacter sp. UWB1', 'Fibrobacter sp. UWB8'], ['Fibrobacter sp. UWR2', 'Geminisphaera colitermitum', 'Fibrobacter', 'Fibrobacter sp. UWP2', 'Fibrobacter sp. UWEL']]]\n"
     ]
    }
   ],
   "source": [
    "#Section 4: takes the sequences from section 3 and BLASTs them.\n",
    "blast_url = \"https://blast.ncbi.nlm.nih.gov/Blast.cgi?PAGE=Proteins\"\n",
    "all_results = []\n",
    "gene_sequences_seqs = gene_sequences.loc[:, 'seq1':]\n",
    "for index in range(gene_sequences_seqs.shape[0]):\n",
    "# for index in range(0,1):\n",
    "    results = []\n",
    "    row = gene_sequences_seqs.iloc[index].values\n",
    "    for seq in row:\n",
    "        browser.visit(blast_url)\n",
    "        browser.fill('QUERY', seq)\n",
    "        button = browser.find_by_id('b1')\n",
    "        button.click()\n",
    "        wait = browser.find_by_id('summarylists')\n",
    "        while not wait:\n",
    "            wait = browser.find_by_id('summarylists')\n",
    "        table = browser.find_by_id('dscTable')\n",
    "        if len(table) != 0:\n",
    "            result = []\n",
    "            for i in range(1,6):  \n",
    "                try:\n",
    "                    res = table.find_by_id('deflnDesc_' + str(i)).html\n",
    "                    pos = res.find('[')\n",
    "                    result.append(res[pos+1:-1])\n",
    "                except:\n",
    "                    break\n",
    "            results.append(result)\n",
    "    all_results.append(results)\n",
    "#gene_sequences['results'] = pd.Series(all_results)\n",
    "print(all_results)"
   ]
  },
  {
   "cell_type": "code",
   "execution_count": 114,
   "metadata": {
    "collapsed": true
   },
   "outputs": [],
   "source": [
    "gene_sequences.to_excel(\"C:/Users/coverney/Desktop/Research/Meta/Data/gene_sequences2.xlsx\", index=False)"
   ]
  },
  {
   "cell_type": "code",
   "execution_count": 160,
   "metadata": {},
   "outputs": [
    {
     "name": "stdout",
     "output_type": "stream",
     "text": [
      "['Fibrobacteres']\n"
     ]
    }
   ],
   "source": [
    "from collections import Counter\n",
    "# Reference NCBI Taxonomy website\n",
    "tax_website = 'https://www.ncbi.nlm.nih.gov/taxonomy'\n",
    "all_phylas = []\n",
    "overall_phyla = []\n",
    "# go through scaffolds\n",
    "#for results in gene_sequences['results']:\n",
    "for results in all_results:\n",
    "    phylas = []\n",
    "    # go through genes\n",
    "    for res in results:\n",
    "        # go through results from one gene\n",
    "        phyla = []\n",
    "        for val in res:\n",
    "            browser.visit(tax_website)\n",
    "            browser.fill('term', val)\n",
    "            button = browser.find_by_id('search')\n",
    "            button.click()\n",
    "            wait = browser.find_by_id('messagearea')\n",
    "            while len(wait) is 0:\n",
    "                wait = browser.find_by_id('messagearea')\n",
    "            search_area = browser.find_by_id('maincontent')\n",
    "            soup = BeautifulSoup(search_area.html, \"html.parser\")\n",
    "            links = soup.find_all('a')\n",
    "            for link in links:\n",
    "                if link.get_text() == val:\n",
    "                    url = 'https://www.ncbi.nlm.nih.gov/'+link.get('href')\n",
    "                    break\n",
    "            browser.visit(url)\n",
    "            soup = BeautifulSoup(browser.html, \"html.parser\")\n",
    "            try:\n",
    "                phylum = soup.find(title='phylum').get_text()\n",
    "                phyla.append(phylum)\n",
    "            except:\n",
    "                continue\n",
    "        gene_phylum_counter = Counter(phyla).most_common(1)\n",
    "        if gene_phylum_counter[0][1] >= 3:\n",
    "            gene_phylum = gene_phylum_counter[0][0]\n",
    "        else:\n",
    "            gene_phylum = 'none'\n",
    "        phylas.append(gene_phylum)\n",
    "    top_phylum = Counter(phylas).most_common(1)\n",
    "    if top_phylum[0][0] != 'none' and top_phylum[0][1] >= 3:\n",
    "        overall_phylum = top_phylum[0][0]\n",
    "    else:\n",
    "        overall_phylum = 'Unclassified'\n",
    "    overall_phyla.append(overall_phylum)\n",
    "    all_phylas.append(phylas)\n",
    "print(overall_phyla)\n",
    "# gene_sequences['phyla'] = pd.Series(overall_phyla)\n",
    "# gene_sequences['phylas'] = pd.Series(all_phylas)"
   ]
  },
  {
   "cell_type": "code",
   "execution_count": 161,
   "metadata": {},
   "outputs": [
    {
     "name": "stdout",
     "output_type": "stream",
     "text": [
      "[['none', 'Fibrobacteres', 'Spirochaetes', 'Fibrobacteres', 'Fibrobacteres']]\n"
     ]
    }
   ],
   "source": [
    "print(all_phylas)"
   ]
  },
  {
   "cell_type": "code",
   "execution_count": 117,
   "metadata": {},
   "outputs": [
    {
     "data": {
      "text/html": [
       "<div>\n",
       "<style scoped>\n",
       "    .dataframe tbody tr th:only-of-type {\n",
       "        vertical-align: middle;\n",
       "    }\n",
       "\n",
       "    .dataframe tbody tr th {\n",
       "        vertical-align: top;\n",
       "    }\n",
       "\n",
       "    .dataframe thead th {\n",
       "        text-align: right;\n",
       "    }\n",
       "</style>\n",
       "<table border=\"1\" class=\"dataframe\">\n",
       "  <thead>\n",
       "    <tr style=\"text-align: right;\">\n",
       "      <th></th>\n",
       "      <th>scaffold id</th>\n",
       "      <th>seqs</th>\n",
       "      <th>phylas</th>\n",
       "      <th>results</th>\n",
       "      <th>phyla</th>\n",
       "    </tr>\n",
       "  </thead>\n",
       "  <tbody>\n",
       "    <tr>\n",
       "      <th>0</th>\n",
       "      <td>Ga0136444_100052</td>\n",
       "      <td>[MATDELLRPTVRLDVFDGPLDLLLYLVHSHELDPRTIPVSQIADQ...</td>\n",
       "      <td>[Fibrobacteres, none, none]</td>\n",
       "      <td>[[Fibrobacter sp. UWS2, Fibrobacter sp. UWS3, ...</td>\n",
       "      <td>Unclassified</td>\n",
       "    </tr>\n",
       "    <tr>\n",
       "      <th>1</th>\n",
       "      <td>Ga0136444_100059</td>\n",
       "      <td>[MRIRLVCFGKLVPKPLGPAVEEYAKRLEKLCRLEIHELPEAQGPD...</td>\n",
       "      <td>[Firmicutes, none, none]</td>\n",
       "      <td>[[Clostridium, Clostridium botulinum, Clostrid...</td>\n",
       "      <td>Unclassified</td>\n",
       "    </tr>\n",
       "    <tr>\n",
       "      <th>2</th>\n",
       "      <td>Ga0136444_100076</td>\n",
       "      <td>[MKAVVVLALASALVGLGGCATIKVHDAVQEIGLLEPGHLEWWDDS...</td>\n",
       "      <td>[none, none]</td>\n",
       "      <td>[[Pseudomonas, Candidatus Marinimicrobia bacte...</td>\n",
       "      <td>Unclassified</td>\n",
       "    </tr>\n",
       "    <tr>\n",
       "      <th>3</th>\n",
       "      <td>Ga0136444_100106</td>\n",
       "      <td>[MRTGLLLAVVALVVLAGFAGARALRSQGGGAVPKEATVRDFDEHG...</td>\n",
       "      <td>[Verrucomicrobia, Bacteroidetes, none]</td>\n",
       "      <td>[[Verrucomicrobia bacterium LW23, Methylacidip...</td>\n",
       "      <td>Unclassified</td>\n",
       "    </tr>\n",
       "    <tr>\n",
       "      <th>4</th>\n",
       "      <td>Ga0136444_100122</td>\n",
       "      <td>[PPGAIVPQNGRNPFSSRRWLDAQDRLLPLDSLIPWPGGASIVLRK...</td>\n",
       "      <td>[none, none]</td>\n",
       "      <td>[[Lentzea albida, Lentzea waywayandensis, Delt...</td>\n",
       "      <td>Unclassified</td>\n",
       "    </tr>\n",
       "  </tbody>\n",
       "</table>\n",
       "</div>"
      ],
      "text/plain": [
       "        scaffold id                                               seqs  \\\n",
       "0  Ga0136444_100052  [MATDELLRPTVRLDVFDGPLDLLLYLVHSHELDPRTIPVSQIADQ...   \n",
       "1  Ga0136444_100059  [MRIRLVCFGKLVPKPLGPAVEEYAKRLEKLCRLEIHELPEAQGPD...   \n",
       "2  Ga0136444_100076  [MKAVVVLALASALVGLGGCATIKVHDAVQEIGLLEPGHLEWWDDS...   \n",
       "3  Ga0136444_100106  [MRTGLLLAVVALVVLAGFAGARALRSQGGGAVPKEATVRDFDEHG...   \n",
       "4  Ga0136444_100122  [PPGAIVPQNGRNPFSSRRWLDAQDRLLPLDSLIPWPGGASIVLRK...   \n",
       "\n",
       "                                   phylas  \\\n",
       "0             [Fibrobacteres, none, none]   \n",
       "1                [Firmicutes, none, none]   \n",
       "2                            [none, none]   \n",
       "3  [Verrucomicrobia, Bacteroidetes, none]   \n",
       "4                            [none, none]   \n",
       "\n",
       "                                             results         phyla  \n",
       "0  [[Fibrobacter sp. UWS2, Fibrobacter sp. UWS3, ...  Unclassified  \n",
       "1  [[Clostridium, Clostridium botulinum, Clostrid...  Unclassified  \n",
       "2  [[Pseudomonas, Candidatus Marinimicrobia bacte...  Unclassified  \n",
       "3  [[Verrucomicrobia bacterium LW23, Methylacidip...  Unclassified  \n",
       "4  [[Lentzea albida, Lentzea waywayandensis, Delt...  Unclassified  "
      ]
     },
     "execution_count": 117,
     "metadata": {},
     "output_type": "execute_result"
    }
   ],
   "source": [
    "gene_sequences.head()"
   ]
  },
  {
   "cell_type": "code",
   "execution_count": 118,
   "metadata": {
    "collapsed": true
   },
   "outputs": [],
   "source": [
    "gene_sequences.to_excel(\"C:/Users/coverney/Desktop/Research/Meta/Data/gene_sequences3.xlsx\", index=False)"
   ]
  },
  {
   "cell_type": "code",
   "execution_count": 42,
   "metadata": {},
   "outputs": [
    {
     "data": {
      "text/plain": [
       "['hypothetical protein [Fibrobacter sp. UWS2]',\n",
       " 'hypothetical protein [Fibrobacter sp. UWS3]',\n",
       " 'chromosome segregation protein ScpA [Fibrobacter sp. UWB12]',\n",
       " 'condensin subunit ScpA [Fibrobacter sp. UWT3]',\n",
       " 'hypothetical protein [Fibrobacter sp. UWOV1]']"
      ]
     },
     "execution_count": 42,
     "metadata": {},
     "output_type": "execute_result"
    }
   ],
   "source": [
    "#get the actual data\n",
    "result = []\n",
    "table = browser.find_by_id('dscTable')\n",
    "for i in range(1,6):  \n",
    "    res = table.find_by_id('deflnDesc_' + str(i)).html\n",
    "    result.append(res)\n",
    "result"
   ]
  },
  {
   "cell_type": "code",
   "execution_count": null,
   "metadata": {
    "collapsed": true
   },
   "outputs": [],
   "source": [
    "gene_sequences.to_excel(\"C:/Users/coverney/Desktop/Research/Meta/Data/gene_sequences2.xlsx\", index=False)"
   ]
  },
  {
   "cell_type": "code",
   "execution_count": null,
   "metadata": {
    "collapsed": true
   },
   "outputs": [],
   "source": [
    "\n",
    "gene_sequences['phylas'] = pd.Series(phylas)\n",
    "for phyla in gene_sequences['phylas']:\n",
    "    counter = Counter(phyla)\n",
    "    "
   ]
  },
  {
   "cell_type": "code",
   "execution_count": 18,
   "metadata": {
    "collapsed": true
   },
   "outputs": [],
   "source": [
    "# get the taxonomy report\n",
    "        soup = BeautifulSoup(browser.html, \"html.parser\")\n",
    "        links = soup.find_all('a')\n",
    "        for link in links:\n",
    "            if link.get_text() == '[Taxonomy reports]':\n",
    "                tax_url = link.get('href')\n",
    "\n",
    "        browser.visit('https://blast.ncbi.nlm.nih.gov/'+tax_url)\n",
    "        # get phyla\n",
    "        table = browser.find_by_id('lngTable')\n",
    "        soup = BeautifulSoup(table.html, \"html.parser\")\n",
    "        links = soup.find_all('a')\n",
    "        phylum = links[0].get_text()\n",
    "        if phylum != 'cellular organisms' and phylum != 'Bacteria':\n",
    "            phyla.append(phylum)\n",
    "        else:\n",
    "            phyla.append('none')"
   ]
  },
  {
   "cell_type": "code",
   "execution_count": null,
   "metadata": {
    "collapsed": true
   },
   "outputs": [],
   "source": []
  }
 ],
 "metadata": {
  "kernelspec": {
   "display_name": "Python 3",
   "language": "python",
   "name": "python3"
  },
  "language_info": {
   "codemirror_mode": {
    "name": "ipython",
    "version": 3
   },
   "file_extension": ".py",
   "mimetype": "text/x-python",
   "name": "python",
   "nbconvert_exporter": "python",
   "pygments_lexer": "ipython3",
   "version": "3.6.1"
  }
 },
 "nbformat": 4,
 "nbformat_minor": 2
}
