{
 "cells": [
  {
   "cell_type": "code",
   "execution_count": 16,
   "metadata": {
    "collapsed": true
   },
   "outputs": [],
   "source": [
    "#Resources: https://splinter.readthedocs.io/en/latest/#features \n",
    "#http://web.stanford.edu/~zlotnick/TextAsData/Web_Scraping_with_Beautiful_Soup.html\n",
    "#https://www.crummy.com/software/BeautifulSoup/bs4/doc/\n",
    "\n",
    "#This program conducts a batch BLAST of multiple genes from JGI and stores the top ten results for each BLAST."
   ]
  },
  {
   "cell_type": "code",
   "execution_count": 1,
   "metadata": {
    "collapsed": true
   },
   "outputs": [],
   "source": [
    "#Section 1: imports the necessary libraries and creates the arrays needed to store information from JGI and BLAST (RUN THIS)\n",
    "#You have to make sure that you have the splinter and BeautifulSoup libraries (reference resources above for download process)\n",
    "from splinter import Browser\n",
    "from bs4 import BeautifulSoup\n",
    "sequences = []\n",
    "results = []"
   ]
  },
  {
   "cell_type": "code",
   "execution_count": 2,
   "metadata": {
    "collapsed": true
   },
   "outputs": [],
   "source": [
    "#Section 2: opens up a Chrome browser (RUN THIS)\n",
    "executable_path = {'executable_path':'C:\\Program Files\\chromedriver.exe'}\n",
    "browser = Browser('chrome', **executable_path)"
   ]
  },
  {
   "cell_type": "code",
   "execution_count": 5,
   "metadata": {},
   "outputs": [
    {
     "name": "stdout",
     "output_type": "stream",
     "text": [
      "['MLSKVKSAMTAEVLIGDGDARLSPHPLRAVVLGEVHARPFTALAVPSRVLHFAFDTSGDKAKADRAAMTSFCESRGLQPPPPGEKHHRASFGTTMLRWEQHSEFTTYTWEFTADPTATPFHPDASSLASPMRLLPQPGPLLVAVDLHLLADDPPRTAPERLFDRASLAVAENSDGAAVYATDFQAGPSGFVRVLVIDRGMAPERAGALVQRVLEIETYRTLALLGLP', 'MLDPGPKSAPRPSNDRAPHAVVIGSGFGGLAAAIRLGAKGYRVTVLEKLDQPGGRAYVHRQDGFTFDAGPTIVTAPYLFEELWKLCGKRMSDDVTLKPMSPFYRIRFDDGTHFDYSDDRNAVLDQIAKFCPDDVPAYDRFMAASQAIFKVGFEQLGDQPFNHFSDMLKIAPAMVMLESYRSVYGMVAKHFKDPKLRQVFSFHPLLIGGNPFMSSSVYCLITYLEKQWGVHSAMGGTGSLVTGLAKLIEGQGNEIRYKQDVRQIVVENGAACGVKLADGEVIKADIVVSNADSASTYRYLLAPETRKRWTDAKIERSRYSMSLFVWYFGTKRRYDDVKHHTILLGPRYRELIADIFSRKIVADDFSLYLHRPTATDPSLAPPGCDTFYVLSPVPNLLGDIDWHSKAETYRASIAKMLGATVLPDLENQVVTSKITTPLDFQDRLSSFRGAAFGLEPVLWQSAWFRPHNKSEDVKNLYLVGAGTHPGAGMPGVLSSARVLDSLVPEADSLVTS*', 'MSVQSDLLAQSDMLACREMIKEGSRTFHAASKVLPRRISDPAIALYAFCRVADDAVDLGLDRTAAVEVLKDRLDRACRGLPRAYPSDRAFADVIARFSIPPAIPEALIEGLEWDSQGRRFETLSDLYGYAARVAGTVGVMMTLVMGQRRPDIVARACDLGCAMQLTNIARDIGEDARNGRIYMPLSWMREAGLDPETWLADPKFTPEIAGIVKRLIDTADALYDRATLGIANLPRSCRPGIFAARALYAEIGREVERSGLDSVSSRAVVSTGRKLAVLARMLAFQETEWAPAKYLPAKFGDMEETRFLVDAVIAHPVRDLPSIPRVKPIEQKVAWLVDLFTRLERRDQMLQRSRV*']\n"
     ]
    }
   ],
   "source": [
    "#Section 3: obtains the top three amino acid sequences from the gene list and stores them in the sequences array\n",
    "#The gene_url is the link to the gene list of a particular scaffold (replace this url with your own), you may be prompted to sign into JGI. \n",
    "#If so, sign in and then re-run this section. \n",
    "#Change the number of genes to blast by changing the \"range(0,3)\" section to \"range(0,n)\", n being the number you want\n",
    "gene_url = \"https://img.jgi.doe.gov/cgi-bin/mer/main.cgi?section=MetaScaffoldDetail&page=metaScaffoldGenes&scaffold_oid=Ga0136453_100219&taxon_oid=3300010205\"\n",
    "for i in range(0,3):\n",
    "    browser.visit(gene_url)\n",
    "    button = browser.find_by_id('yui-rec' + str(i))\n",
    "    soup = BeautifulSoup(button.html, \"html.parser\")\n",
    "    gene_url2 = soup.a.get('href')\n",
    "    browser.visit(\"https://img.jgi.doe.gov/cgi-bin/mer/\" + gene_url2)\n",
    "    soup2 = BeautifulSoup(browser.html, \"html.parser\")\n",
    "    tab = soup2.table\n",
    "    tabs = tab.find_all('tr')\n",
    "    gene_url3 = tabs[15].a.get('href')\n",
    "    browser.visit(\"https://img.jgi.doe.gov/cgi-bin/mer/\" + gene_url3)\n",
    "    soup3 = BeautifulSoup(browser.html, \"html.parser\")\n",
    "    a = soup3.pre.get_text()\n",
    "    b = soup3.pre.font.get_text()\n",
    "    amino = \"\".join(a.rsplit(b))\n",
    "    amino = amino.replace('\\n', '')\n",
    "    sequences.append(amino)\n",
    "\n",
    "print(sequences)"
   ]
  },
  {
   "cell_type": "code",
   "execution_count": 6,
   "metadata": {
    "collapsed": true
   },
   "outputs": [],
   "source": [
    "#Section 4: takes the sequences from section 3 and BLASTs them.It stores the first ten hits into the results array. \n",
    "#So each sequence has 10 elements \n",
    "#You can change the number 10 by changing the \"range(1,10)\" into \"range(1,n)\" n being the number you want \n",
    "blast_url = \"https://blast.ncbi.nlm.nih.gov/Blast.cgi?PAGE=Proteins\"\n",
    "for seq in sequences:\n",
    "    browser.visit(blast_url)\n",
    "    browser.fill('QUERY', seq)\n",
    "    button = browser.find_by_id('b1')\n",
    "    button.click()\n",
    "    table = browser.find_by_id('dscTable')\n",
    "    #find the table\n",
    "    while len(table) is 0:\n",
    "        #print(\"table is none\")\n",
    "        table = browser.find_by_id('dscTable')\n",
    "    #get the actual data\n",
    "    result = []\n",
    "    for i in range(1,10):  \n",
    "        #print(table.find_by_id('deflnDesc_' + str(i)).html)\n",
    "        res = table.find_by_id('deflnDesc_' + str(i)).html\n",
    "        result.append(res)\n",
    "    results.append(result)"
   ]
  }
 ],
 "metadata": {
  "kernelspec": {
   "display_name": "Python 3",
   "language": "python",
   "name": "python3"
  },
  "language_info": {
   "codemirror_mode": {
    "name": "ipython",
    "version": 3
   },
   "file_extension": ".py",
   "mimetype": "text/x-python",
   "name": "python",
   "nbconvert_exporter": "python",
   "pygments_lexer": "ipython3",
   "version": "3.6.1"
  }
 },
 "nbformat": 4,
 "nbformat_minor": 2
}
